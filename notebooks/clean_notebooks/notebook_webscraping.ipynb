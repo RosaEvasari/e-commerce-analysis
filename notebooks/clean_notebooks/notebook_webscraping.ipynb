{
 "cells": [
  {
   "cell_type": "code",
   "execution_count": 2,
   "metadata": {},
   "outputs": [],
   "source": [
    "from functions import *"
   ]
  },
  {
   "cell_type": "code",
   "execution_count": 3,
   "metadata": {},
   "outputs": [],
   "source": [
    "\n",
    "# URL of the Wikipedia page\n",
    "url = \"https://en.wikipedia.org/wiki/Federative_units_of_Brazil\"\n",
    "\n",
    "# Send a GET request to the URL\n",
    "response = requests.get(url)\n",
    "\n",
    "# Parse the HTML content\n",
    "soup = BeautifulSoup(response.content, 'html.parser')"
   ]
  },
  {
   "cell_type": "code",
   "execution_count": 7,
   "metadata": {},
   "outputs": [],
   "source": [
    "# Find the table with the class 'wikitable sortable'\n",
    "table = soup.find('table', {'class': 'wikitable sortable'})\n",
    "\n",
    "# Initialize lists to store the data\n",
    "data = []\n",
    "\n",
    "# Iterate through table rows, skipping the header row\n",
    "for row in table.find_all('tr')[1:]:\n",
    "  cols = row.find_all('td')\n",
    "  if len(cols) >= 7:  # Ensure the row has enough columns\n",
    "      name = cols[0].text.strip()\n",
    "      code = cols[1].text.strip()\n",
    "      #capital = cols[2].text.strip()\n",
    "      population = cols[5].text.strip().replace(',', '')  # Remove commas from population\n",
    "      \n",
    "      data.append({\n",
    "          'state_name': name,\n",
    "          'state_code': code,\n",
    "          #'capital': capital,\n",
    "          'population': population\n",
    "      })\n"
   ]
  },
  {
   "cell_type": "code",
   "execution_count": 8,
   "metadata": {},
   "outputs": [
    {
     "name": "stdout",
     "output_type": "stream",
     "text": [
      "             state_name state_code population\n",
      "0                  Acre         AC     830018\n",
      "1               Alagoas         AL    3127683\n",
      "2                 Amapá         AP     733759\n",
      "3              Amazonas         AM    3941613\n",
      "4                 Bahia         BA   14141626\n",
      "5                 Ceará         CE    8794957\n",
      "6      Distrito Federal         DF    2817381\n",
      "7        Espírito Santo         ES      17798\n",
      "8                 Goiás         GO    7056495\n",
      "9              Maranhão         MA    6776699\n",
      "10          Mato Grosso         MT    3658649\n",
      "11   Mato Grosso do Sul         MS    2880308\n",
      "12         Minas Gerais         MG   21279353\n",
      "13                 Pará         PA    8639532\n",
      "14              Paraíba         PB    4175326\n",
      "15               Paraná         PR   11623091\n",
      "16           Pernambuco         PE    9645321\n",
      "17                Piauí         PI    3341352\n",
      "18       Rio de Janeiro         RJ   16055174\n",
      "19  Rio Grande do Norte         RN    3619619\n",
      "20    Rio Grande do Sul         RS   10882965\n",
      "21             Rondônia         RO    1837905\n",
      "22              Roraima         RR     708352\n",
      "23       Santa Catarina         SC      36964\n",
      "24            São Paulo         SP   44411238\n",
      "25              Sergipe         SE    2403563\n",
      "26            Tocantins         TO    1692452\n"
     ]
    }
   ],
   "source": [
    "# Create a DataFrame\n",
    "df_states = pd.DataFrame(data)\n",
    "\n",
    "# Display the DataFrame\n",
    "print(df_states)\n",
    "\n",
    "# Optionally, save to CSV\n",
    "df_states.to_csv('../../data/raw/states.csv', index=False)"
   ]
  }
 ],
 "metadata": {
  "kernelspec": {
   "display_name": "env_project_final",
   "language": "python",
   "name": "python3"
  },
  "language_info": {
   "codemirror_mode": {
    "name": "ipython",
    "version": 3
   },
   "file_extension": ".py",
   "mimetype": "text/x-python",
   "name": "python",
   "nbconvert_exporter": "python",
   "pygments_lexer": "ipython3",
   "version": "3.12.3"
  }
 },
 "nbformat": 4,
 "nbformat_minor": 2
}
