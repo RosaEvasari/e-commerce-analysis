{
 "cells": [
  {
   "cell_type": "markdown",
   "metadata": {},
   "source": [
    "Importing all functions"
   ]
  },
  {
   "cell_type": "code",
   "execution_count": 262,
   "metadata": {},
   "outputs": [],
   "source": [
    "%matplotlib inline\n",
    "\n",
    "from functions import *"
   ]
  },
  {
   "cell_type": "code",
   "execution_count": 263,
   "metadata": {},
   "outputs": [],
   "source": [
    "# read all cleaned csv files\n",
    "df_category_translation = pd.read_csv('../../data/cleaned/category_translation.csv')\n",
    "df_customers = pd.read_csv('../../data/cleaned/customers.csv')\n",
    "df_geolocation = pd.read_csv('../../data/cleaned/geolocation.csv')\n",
    "df_items = pd.read_csv('../../data/cleaned/items_no_outliers.csv')\n",
    "df_orders = pd.read_csv('../../data/cleaned/orders.csv')\n",
    "df_payments = pd.read_csv('../../data/cleaned/payments.csv')\n",
    "df_products = pd.read_csv('../../data/cleaned/products.csv')\n",
    "df_reviews = pd.read_csv('../../data/cleaned/reviews.csv')\n",
    "df_sellers = pd.read_csv('../../data/cleaned/sellers.csv')\n",
    "df_states = pd.read_csv('../../data/cleaned/states.csv')"
   ]
  },
  {
   "cell_type": "code",
   "execution_count": 264,
   "metadata": {},
   "outputs": [],
   "source": [
    "df_category_translation = df_category_translation.copy()\n",
    "df_customers = df_customers.copy()\n",
    "df_geolocation = df_geolocation.copy()\n",
    "df_items = df_items.copy()\n",
    "df_orders = df_orders.copy()\n",
    "df_payments = df_payments.copy()\n",
    "df_products = df_products.copy()\n",
    "df_reviews = df_reviews.copy()\n",
    "df_sellers = df_sellers.copy()\n",
    "df_states = df_states.copy()"
   ]
  },
  {
   "cell_type": "markdown",
   "metadata": {},
   "source": [
    "### Understanding the timestamp between df_items and df_orders"
   ]
  },
  {
   "cell_type": "code",
   "execution_count": 265,
   "metadata": {},
   "outputs": [
    {
     "data": {
      "text/html": [
       "<div>\n",
       "<style scoped>\n",
       "    .dataframe tbody tr th:only-of-type {\n",
       "        vertical-align: middle;\n",
       "    }\n",
       "\n",
       "    .dataframe tbody tr th {\n",
       "        vertical-align: top;\n",
       "    }\n",
       "\n",
       "    .dataframe thead th {\n",
       "        text-align: right;\n",
       "    }\n",
       "</style>\n",
       "<table border=\"1\" class=\"dataframe\">\n",
       "  <thead>\n",
       "    <tr style=\"text-align: right;\">\n",
       "      <th></th>\n",
       "      <th>order_id</th>\n",
       "      <th>item_id</th>\n",
       "      <th>product_id</th>\n",
       "      <th>seller_id</th>\n",
       "      <th>shipping_limit_timestamp</th>\n",
       "      <th>price</th>\n",
       "      <th>freight_value</th>\n",
       "    </tr>\n",
       "  </thead>\n",
       "  <tbody>\n",
       "    <tr>\n",
       "      <th>0</th>\n",
       "      <td>00010242fe8c5a6d1ba2dd792cb16214</td>\n",
       "      <td>1</td>\n",
       "      <td>4244733e06e7ecb4970a6e2683c13e61</td>\n",
       "      <td>48436dade18ac8b2bce089ec2a041202</td>\n",
       "      <td>2017-09-19 09:45:35</td>\n",
       "      <td>58.90</td>\n",
       "      <td>13.29</td>\n",
       "    </tr>\n",
       "    <tr>\n",
       "      <th>1</th>\n",
       "      <td>00018f77f2f0320c557190d7a144bdd3</td>\n",
       "      <td>1</td>\n",
       "      <td>e5f2d52b802189ee658865ca93d83a8f</td>\n",
       "      <td>dd7ddc04e1b6c2c614352b383efe2d36</td>\n",
       "      <td>2017-05-03 11:05:13</td>\n",
       "      <td>239.90</td>\n",
       "      <td>19.93</td>\n",
       "    </tr>\n",
       "    <tr>\n",
       "      <th>2</th>\n",
       "      <td>000229ec398224ef6ca0657da4fc703e</td>\n",
       "      <td>1</td>\n",
       "      <td>c777355d18b72b67abbeef9df44fd0fd</td>\n",
       "      <td>5b51032eddd242adc84c38acab88f23d</td>\n",
       "      <td>2018-01-18 14:48:30</td>\n",
       "      <td>199.00</td>\n",
       "      <td>17.87</td>\n",
       "    </tr>\n",
       "    <tr>\n",
       "      <th>3</th>\n",
       "      <td>00024acbcdf0a6daa1e931b038114c75</td>\n",
       "      <td>1</td>\n",
       "      <td>7634da152a4610f1595efa32f14722fc</td>\n",
       "      <td>9d7a1d34a5052409006425275ba1c2b4</td>\n",
       "      <td>2018-08-15 10:10:18</td>\n",
       "      <td>12.99</td>\n",
       "      <td>12.79</td>\n",
       "    </tr>\n",
       "    <tr>\n",
       "      <th>4</th>\n",
       "      <td>00042b26cf59d7ce69dfabb4e55b4fd9</td>\n",
       "      <td>1</td>\n",
       "      <td>ac6c3623068f30de03045865e4e10089</td>\n",
       "      <td>df560393f3a51e74553ab94004ba5c87</td>\n",
       "      <td>2017-02-13 13:57:51</td>\n",
       "      <td>199.90</td>\n",
       "      <td>18.14</td>\n",
       "    </tr>\n",
       "  </tbody>\n",
       "</table>\n",
       "</div>"
      ],
      "text/plain": [
       "                           order_id  item_id  \\\n",
       "0  00010242fe8c5a6d1ba2dd792cb16214        1   \n",
       "1  00018f77f2f0320c557190d7a144bdd3        1   \n",
       "2  000229ec398224ef6ca0657da4fc703e        1   \n",
       "3  00024acbcdf0a6daa1e931b038114c75        1   \n",
       "4  00042b26cf59d7ce69dfabb4e55b4fd9        1   \n",
       "\n",
       "                         product_id                         seller_id  \\\n",
       "0  4244733e06e7ecb4970a6e2683c13e61  48436dade18ac8b2bce089ec2a041202   \n",
       "1  e5f2d52b802189ee658865ca93d83a8f  dd7ddc04e1b6c2c614352b383efe2d36   \n",
       "2  c777355d18b72b67abbeef9df44fd0fd  5b51032eddd242adc84c38acab88f23d   \n",
       "3  7634da152a4610f1595efa32f14722fc  9d7a1d34a5052409006425275ba1c2b4   \n",
       "4  ac6c3623068f30de03045865e4e10089  df560393f3a51e74553ab94004ba5c87   \n",
       "\n",
       "  shipping_limit_timestamp   price  freight_value  \n",
       "0      2017-09-19 09:45:35   58.90          13.29  \n",
       "1      2017-05-03 11:05:13  239.90          19.93  \n",
       "2      2018-01-18 14:48:30  199.00          17.87  \n",
       "3      2018-08-15 10:10:18   12.99          12.79  \n",
       "4      2017-02-13 13:57:51  199.90          18.14  "
      ]
     },
     "execution_count": 265,
     "metadata": {},
     "output_type": "execute_result"
    }
   ],
   "source": [
    "df_items.head()"
   ]
  },
  {
   "cell_type": "code",
   "execution_count": 266,
   "metadata": {},
   "outputs": [
    {
     "data": {
      "text/html": [
       "<div>\n",
       "<style scoped>\n",
       "    .dataframe tbody tr th:only-of-type {\n",
       "        vertical-align: middle;\n",
       "    }\n",
       "\n",
       "    .dataframe tbody tr th {\n",
       "        vertical-align: top;\n",
       "    }\n",
       "\n",
       "    .dataframe thead th {\n",
       "        text-align: right;\n",
       "    }\n",
       "</style>\n",
       "<table border=\"1\" class=\"dataframe\">\n",
       "  <thead>\n",
       "    <tr style=\"text-align: right;\">\n",
       "      <th></th>\n",
       "      <th>order_id</th>\n",
       "      <th>customer_id</th>\n",
       "      <th>status</th>\n",
       "      <th>purchase_timestamp</th>\n",
       "      <th>approved_timestamp</th>\n",
       "      <th>delivered_carrier_timestamp</th>\n",
       "      <th>delivered_customer_timestamp</th>\n",
       "      <th>estimated_delivery_timestamp</th>\n",
       "    </tr>\n",
       "  </thead>\n",
       "  <tbody>\n",
       "    <tr>\n",
       "      <th>85267</th>\n",
       "      <td>00010242fe8c5a6d1ba2dd792cb16214</td>\n",
       "      <td>3ce436f183e68e07877b285a838db11a</td>\n",
       "      <td>delivered</td>\n",
       "      <td>2017-09-13 08:59:02</td>\n",
       "      <td>2017-09-13 09:45:35</td>\n",
       "      <td>2017-09-19 18:34:16</td>\n",
       "      <td>2017-09-20 23:43:48</td>\n",
       "      <td>2017-09-29 00:00:00</td>\n",
       "    </tr>\n",
       "  </tbody>\n",
       "</table>\n",
       "</div>"
      ],
      "text/plain": [
       "                               order_id                       customer_id  \\\n",
       "85267  00010242fe8c5a6d1ba2dd792cb16214  3ce436f183e68e07877b285a838db11a   \n",
       "\n",
       "          status   purchase_timestamp   approved_timestamp  \\\n",
       "85267  delivered  2017-09-13 08:59:02  2017-09-13 09:45:35   \n",
       "\n",
       "      delivered_carrier_timestamp delivered_customer_timestamp  \\\n",
       "85267         2017-09-19 18:34:16          2017-09-20 23:43:48   \n",
       "\n",
       "      estimated_delivery_timestamp  \n",
       "85267          2017-09-29 00:00:00  "
      ]
     },
     "execution_count": 266,
     "metadata": {},
     "output_type": "execute_result"
    }
   ],
   "source": [
    "df_orders[df_orders['order_id'] == '00010242fe8c5a6d1ba2dd792cb16214']"
   ]
  },
  {
   "cell_type": "markdown",
   "metadata": {},
   "source": [
    "### Understanding price and freight_value in df_items compared to value in df_payments"
   ]
  },
  {
   "cell_type": "code",
   "execution_count": 267,
   "metadata": {},
   "outputs": [
    {
     "data": {
      "text/html": [
       "<div>\n",
       "<style scoped>\n",
       "    .dataframe tbody tr th:only-of-type {\n",
       "        vertical-align: middle;\n",
       "    }\n",
       "\n",
       "    .dataframe tbody tr th {\n",
       "        vertical-align: top;\n",
       "    }\n",
       "\n",
       "    .dataframe thead th {\n",
       "        text-align: right;\n",
       "    }\n",
       "</style>\n",
       "<table border=\"1\" class=\"dataframe\">\n",
       "  <thead>\n",
       "    <tr style=\"text-align: right;\">\n",
       "      <th></th>\n",
       "      <th>order_id</th>\n",
       "      <th>item_id</th>\n",
       "      <th>product_id</th>\n",
       "      <th>seller_id</th>\n",
       "      <th>shipping_limit_timestamp</th>\n",
       "      <th>price</th>\n",
       "      <th>freight_value</th>\n",
       "    </tr>\n",
       "  </thead>\n",
       "  <tbody>\n",
       "    <tr>\n",
       "      <th>0</th>\n",
       "      <td>00010242fe8c5a6d1ba2dd792cb16214</td>\n",
       "      <td>1</td>\n",
       "      <td>4244733e06e7ecb4970a6e2683c13e61</td>\n",
       "      <td>48436dade18ac8b2bce089ec2a041202</td>\n",
       "      <td>2017-09-19 09:45:35</td>\n",
       "      <td>58.9</td>\n",
       "      <td>13.29</td>\n",
       "    </tr>\n",
       "  </tbody>\n",
       "</table>\n",
       "</div>"
      ],
      "text/plain": [
       "                           order_id  item_id  \\\n",
       "0  00010242fe8c5a6d1ba2dd792cb16214        1   \n",
       "\n",
       "                         product_id                         seller_id  \\\n",
       "0  4244733e06e7ecb4970a6e2683c13e61  48436dade18ac8b2bce089ec2a041202   \n",
       "\n",
       "  shipping_limit_timestamp  price  freight_value  \n",
       "0      2017-09-19 09:45:35   58.9          13.29  "
      ]
     },
     "execution_count": 267,
     "metadata": {},
     "output_type": "execute_result"
    }
   ],
   "source": [
    "df_items[df_items['order_id'] == '00010242fe8c5a6d1ba2dd792cb16214']"
   ]
  },
  {
   "cell_type": "code",
   "execution_count": 268,
   "metadata": {},
   "outputs": [
    {
     "data": {
      "text/html": [
       "<div>\n",
       "<style scoped>\n",
       "    .dataframe tbody tr th:only-of-type {\n",
       "        vertical-align: middle;\n",
       "    }\n",
       "\n",
       "    .dataframe tbody tr th {\n",
       "        vertical-align: top;\n",
       "    }\n",
       "\n",
       "    .dataframe thead th {\n",
       "        text-align: right;\n",
       "    }\n",
       "</style>\n",
       "<table border=\"1\" class=\"dataframe\">\n",
       "  <thead>\n",
       "    <tr style=\"text-align: right;\">\n",
       "      <th></th>\n",
       "      <th>order_id</th>\n",
       "      <th>sequential</th>\n",
       "      <th>type</th>\n",
       "      <th>installments</th>\n",
       "      <th>value</th>\n",
       "    </tr>\n",
       "  </thead>\n",
       "  <tbody>\n",
       "    <tr>\n",
       "      <th>82825</th>\n",
       "      <td>00010242fe8c5a6d1ba2dd792cb16214</td>\n",
       "      <td>1</td>\n",
       "      <td>credit_card</td>\n",
       "      <td>2</td>\n",
       "      <td>72.19</td>\n",
       "    </tr>\n",
       "  </tbody>\n",
       "</table>\n",
       "</div>"
      ],
      "text/plain": [
       "                               order_id  sequential         type  \\\n",
       "82825  00010242fe8c5a6d1ba2dd792cb16214           1  credit_card   \n",
       "\n",
       "       installments  value  \n",
       "82825             2  72.19  "
      ]
     },
     "execution_count": 268,
     "metadata": {},
     "output_type": "execute_result"
    }
   ],
   "source": [
    "df_payments[df_payments['order_id'] == '00010242fe8c5a6d1ba2dd792cb16214']"
   ]
  },
  {
   "cell_type": "code",
   "execution_count": 269,
   "metadata": {},
   "outputs": [
    {
     "data": {
      "text/html": [
       "<div>\n",
       "<style scoped>\n",
       "    .dataframe tbody tr th:only-of-type {\n",
       "        vertical-align: middle;\n",
       "    }\n",
       "\n",
       "    .dataframe tbody tr th {\n",
       "        vertical-align: top;\n",
       "    }\n",
       "\n",
       "    .dataframe thead th {\n",
       "        text-align: right;\n",
       "    }\n",
       "</style>\n",
       "<table border=\"1\" class=\"dataframe\">\n",
       "  <thead>\n",
       "    <tr style=\"text-align: right;\">\n",
       "      <th></th>\n",
       "      <th>review_id</th>\n",
       "      <th>order_id</th>\n",
       "      <th>score</th>\n",
       "      <th>title</th>\n",
       "      <th>message</th>\n",
       "      <th>creation_timestamp</th>\n",
       "      <th>answer_timestamp</th>\n",
       "    </tr>\n",
       "  </thead>\n",
       "  <tbody>\n",
       "    <tr>\n",
       "      <th>0</th>\n",
       "      <td>7bc2406110b926393aa56f80a40eba40</td>\n",
       "      <td>73fc7af87114b39712e6da79b0a377eb</td>\n",
       "      <td>4</td>\n",
       "      <td>0</td>\n",
       "      <td>0</td>\n",
       "      <td>2018-01-18 00:00:00</td>\n",
       "      <td>2018-01-18 21:46:59</td>\n",
       "    </tr>\n",
       "    <tr>\n",
       "      <th>1</th>\n",
       "      <td>80e641a11e56f04c1ad469d5645fdfde</td>\n",
       "      <td>a548910a1c6147796b98fdf73dbeba33</td>\n",
       "      <td>5</td>\n",
       "      <td>0</td>\n",
       "      <td>0</td>\n",
       "      <td>2018-03-10 00:00:00</td>\n",
       "      <td>2018-03-11 03:05:13</td>\n",
       "    </tr>\n",
       "    <tr>\n",
       "      <th>2</th>\n",
       "      <td>228ce5500dc1d8e020d8d1322874b6f0</td>\n",
       "      <td>f9e4b658b201a9f2ecdecbb34bed034b</td>\n",
       "      <td>5</td>\n",
       "      <td>0</td>\n",
       "      <td>0</td>\n",
       "      <td>2018-02-17 00:00:00</td>\n",
       "      <td>2018-02-18 14:36:24</td>\n",
       "    </tr>\n",
       "  </tbody>\n",
       "</table>\n",
       "</div>"
      ],
      "text/plain": [
       "                          review_id                          order_id  score  \\\n",
       "0  7bc2406110b926393aa56f80a40eba40  73fc7af87114b39712e6da79b0a377eb      4   \n",
       "1  80e641a11e56f04c1ad469d5645fdfde  a548910a1c6147796b98fdf73dbeba33      5   \n",
       "2  228ce5500dc1d8e020d8d1322874b6f0  f9e4b658b201a9f2ecdecbb34bed034b      5   \n",
       "\n",
       "  title message   creation_timestamp     answer_timestamp  \n",
       "0     0       0  2018-01-18 00:00:00  2018-01-18 21:46:59  \n",
       "1     0       0  2018-03-10 00:00:00  2018-03-11 03:05:13  \n",
       "2     0       0  2018-02-17 00:00:00  2018-02-18 14:36:24  "
      ]
     },
     "execution_count": 269,
     "metadata": {},
     "output_type": "execute_result"
    }
   ],
   "source": [
    "df_reviews.head(3)"
   ]
  },
  {
   "cell_type": "code",
   "execution_count": 270,
   "metadata": {},
   "outputs": [
    {
     "data": {
      "text/html": [
       "<div>\n",
       "<style scoped>\n",
       "    .dataframe tbody tr th:only-of-type {\n",
       "        vertical-align: middle;\n",
       "    }\n",
       "\n",
       "    .dataframe tbody tr th {\n",
       "        vertical-align: top;\n",
       "    }\n",
       "\n",
       "    .dataframe thead th {\n",
       "        text-align: right;\n",
       "    }\n",
       "</style>\n",
       "<table border=\"1\" class=\"dataframe\">\n",
       "  <thead>\n",
       "    <tr style=\"text-align: right;\">\n",
       "      <th></th>\n",
       "      <th>order_id</th>\n",
       "      <th>customer_id</th>\n",
       "      <th>status</th>\n",
       "      <th>purchase_timestamp</th>\n",
       "      <th>approved_timestamp</th>\n",
       "      <th>delivered_carrier_timestamp</th>\n",
       "      <th>delivered_customer_timestamp</th>\n",
       "      <th>estimated_delivery_timestamp</th>\n",
       "    </tr>\n",
       "  </thead>\n",
       "  <tbody>\n",
       "    <tr>\n",
       "      <th>1871</th>\n",
       "      <td>73fc7af87114b39712e6da79b0a377eb</td>\n",
       "      <td>41dcb106f807e993532d446263290104</td>\n",
       "      <td>delivered</td>\n",
       "      <td>2018-01-11 15:30:49</td>\n",
       "      <td>2018-01-11 15:47:59</td>\n",
       "      <td>2018-01-12 21:57:22</td>\n",
       "      <td>2018-01-17 18:42:41</td>\n",
       "      <td>2018-02-02 00:00:00</td>\n",
       "    </tr>\n",
       "  </tbody>\n",
       "</table>\n",
       "</div>"
      ],
      "text/plain": [
       "                              order_id                       customer_id  \\\n",
       "1871  73fc7af87114b39712e6da79b0a377eb  41dcb106f807e993532d446263290104   \n",
       "\n",
       "         status   purchase_timestamp   approved_timestamp  \\\n",
       "1871  delivered  2018-01-11 15:30:49  2018-01-11 15:47:59   \n",
       "\n",
       "     delivered_carrier_timestamp delivered_customer_timestamp  \\\n",
       "1871         2018-01-12 21:57:22          2018-01-17 18:42:41   \n",
       "\n",
       "     estimated_delivery_timestamp  \n",
       "1871          2018-02-02 00:00:00  "
      ]
     },
     "execution_count": 270,
     "metadata": {},
     "output_type": "execute_result"
    }
   ],
   "source": [
    "df_orders[df_orders['order_id'] == '73fc7af87114b39712e6da79b0a377eb']"
   ]
  },
  {
   "cell_type": "markdown",
   "metadata": {},
   "source": [
    "### Understand the difference between order_id in items and payments"
   ]
  },
  {
   "cell_type": "markdown",
   "metadata": {},
   "source": [
    "The amount of order_id in items and payments are different. <br>\n",
    "Does it mean that some order_id doesn't make it into payment?"
   ]
  },
  {
   "cell_type": "code",
   "execution_count": 271,
   "metadata": {},
   "outputs": [],
   "source": [
    "items_order_ids = set(df_items['order_id'])\n",
    "payments_order_ids = set(df_payments['order_id'])"
   ]
  },
  {
   "cell_type": "code",
   "execution_count": 272,
   "metadata": {},
   "outputs": [
    {
     "data": {
      "text/plain": [
       "94881"
      ]
     },
     "execution_count": 272,
     "metadata": {},
     "output_type": "execute_result"
    }
   ],
   "source": [
    "# Find order_ids that appear in both dataframes\n",
    "common_order_ids = items_order_ids.intersection(payments_order_ids)\n",
    "len(common_order_ids)"
   ]
  },
  {
   "cell_type": "code",
   "execution_count": 273,
   "metadata": {},
   "outputs": [],
   "source": [
    "# Find order_ids that are in items but not in payments\n",
    "only_in_items = items_order_ids - payments_order_ids\n",
    "\n",
    "# Find order_ids that are in payments but not in items\n",
    "only_in_payments = payments_order_ids - items_order_ids"
   ]
  },
  {
   "cell_type": "code",
   "execution_count": 274,
   "metadata": {},
   "outputs": [
    {
     "name": "stdout",
     "output_type": "stream",
     "text": [
      "Total unique order_ids: 97904\n",
      "Order_ids in both dataframes: 94881\n",
      "Order_ids only in items: 524\n",
      "Order_ids only in payments: 2499\n"
     ]
    }
   ],
   "source": [
    "# Print the results\n",
    "print(f\"Total unique order_ids: {len(items_order_ids.union(payments_order_ids))}\")\n",
    "print(f\"Order_ids in both dataframes: {len(common_order_ids)}\")\n",
    "print(f\"Order_ids only in items: {len(only_in_items)}\")\n",
    "print(f\"Order_ids only in payments: {len(only_in_payments)}\")"
   ]
  },
  {
   "cell_type": "markdown",
   "metadata": {},
   "source": [
    "It is proved that all order_id in items are going to payments. However, some order_id is paid with two different payment method, for example, voucher and credit card. <br>\n",
    "**For calculating the revenue, it's best to use df_items**"
   ]
  },
  {
   "cell_type": "markdown",
   "metadata": {},
   "source": [
    "## Create new dataframes for analysis"
   ]
  },
  {
   "cell_type": "markdown",
   "metadata": {},
   "source": [
    "### **SALES**"
   ]
  },
  {
   "cell_type": "markdown",
   "metadata": {},
   "source": [
    "Combine columns from various dataframes: <br>\n",
    "- `df_items` : order_id, item_id, product_id, price, freight_value. <br>\n",
    "- `df_orders` : (filter status = delivered) customer_id, approved_timestamp. <br> \n",
    "- `df_customers` : customer_id, city, state_code. <br>\n",
    "- `df_geolocation` : latitude, longitude. <br>\n",
    "- `df_states` : state_name, population. <br>\n",
    "- `df_products` : category_name. <br>\n",
    "- `df_category_translation` : category_english. <br>"
   ]
  },
  {
   "cell_type": "code",
   "execution_count": 275,
   "metadata": {},
   "outputs": [],
   "source": [
    "df_sales = df_items[['order_id','item_id','product_id','price','freight_value']]"
   ]
  },
  {
   "cell_type": "markdown",
   "metadata": {},
   "source": [
    "Merge df_sales and df_orders (only with delivered status)."
   ]
  },
  {
   "cell_type": "code",
   "execution_count": 276,
   "metadata": {},
   "outputs": [],
   "source": [
    "\"Prefered type of Join as your initial left table doesn't change and you specify on which column to perform the column\"\n",
    "\n",
    "# Merge df_sales and df_orders DataFrames on the 'order_id' column (left join)\n",
    "df_sales = pd.merge(df_sales, df_orders, on='order_id', how='left')"
   ]
  },
  {
   "cell_type": "markdown",
   "metadata": {},
   "source": [
    "There is somehow an error in the system that not all delivered packages have approved_timestamp. So, let's choose purchase_timestamp."
   ]
  },
  {
   "cell_type": "code",
   "execution_count": 277,
   "metadata": {},
   "outputs": [],
   "source": [
    "# take only required columns\n",
    "required_columns = ['order_id','item_id', 'product_id','price','freight_value','customer_id','purchase_timestamp','status']\n",
    "df_sales = df_sales[required_columns]"
   ]
  },
  {
   "cell_type": "code",
   "execution_count": 278,
   "metadata": {},
   "outputs": [
    {
     "data": {
      "text/plain": [
       "order_id               object\n",
       "item_id                 int64\n",
       "product_id             object\n",
       "price                 float64\n",
       "freight_value         float64\n",
       "customer_id            object\n",
       "purchase_timestamp     object\n",
       "status                 object\n",
       "dtype: object"
      ]
     },
     "execution_count": 278,
     "metadata": {},
     "output_type": "execute_result"
    }
   ],
   "source": [
    "df_sales.dtypes"
   ]
  },
  {
   "cell_type": "code",
   "execution_count": 279,
   "metadata": {},
   "outputs": [
    {
     "data": {
      "text/plain": [
       "order_id              0\n",
       "item_id               0\n",
       "product_id            0\n",
       "price                 0\n",
       "freight_value         0\n",
       "customer_id           0\n",
       "purchase_timestamp    0\n",
       "status                0\n",
       "dtype: int64"
      ]
     },
     "execution_count": 279,
     "metadata": {},
     "output_type": "execute_result"
    }
   ],
   "source": [
    "df_sales.isna().sum()"
   ]
  },
  {
   "cell_type": "markdown",
   "metadata": {},
   "source": [
    "Filter only the with 'delivered' status for the certainty that the package has been delivered to customer."
   ]
  },
  {
   "cell_type": "code",
   "execution_count": 280,
   "metadata": {},
   "outputs": [
    {
     "data": {
      "text/plain": [
       "status\n",
       "delivered      104973\n",
       "shipped          1131\n",
       "canceled          484\n",
       "invoiced          320\n",
       "processing        319\n",
       "unavailable         6\n",
       "approved            3\n",
       "Name: count, dtype: int64"
      ]
     },
     "execution_count": 280,
     "metadata": {},
     "output_type": "execute_result"
    }
   ],
   "source": [
    "df_sales['status'].value_counts()"
   ]
  },
  {
   "cell_type": "code",
   "execution_count": 281,
   "metadata": {},
   "outputs": [],
   "source": [
    "df_sales = df_sales[df_sales['status'] == 'delivered']"
   ]
  },
  {
   "cell_type": "code",
   "execution_count": 282,
   "metadata": {},
   "outputs": [],
   "source": [
    "df_sales = df_sales.drop(columns='status')"
   ]
  },
  {
   "cell_type": "markdown",
   "metadata": {},
   "source": [
    "Change data type of purchase_timestamp into datetime format."
   ]
  },
  {
   "cell_type": "code",
   "execution_count": 283,
   "metadata": {},
   "outputs": [],
   "source": [
    "df_sales['purchase_timestamp'] = pd.to_datetime(df_sales['purchase_timestamp'])"
   ]
  },
  {
   "cell_type": "code",
   "execution_count": 284,
   "metadata": {},
   "outputs": [
    {
     "data": {
      "text/plain": [
       "order_id                      object\n",
       "item_id                        int64\n",
       "product_id                    object\n",
       "price                        float64\n",
       "freight_value                float64\n",
       "customer_id                   object\n",
       "purchase_timestamp    datetime64[ns]\n",
       "dtype: object"
      ]
     },
     "execution_count": 284,
     "metadata": {},
     "output_type": "execute_result"
    }
   ],
   "source": [
    "df_sales.dtypes"
   ]
  },
  {
   "cell_type": "markdown",
   "metadata": {},
   "source": [
    "Merge df_sales and df_customers to take the data of city and state_code"
   ]
  },
  {
   "cell_type": "code",
   "execution_count": 285,
   "metadata": {},
   "outputs": [],
   "source": [
    "df_sales = pd.merge(df_sales, df_customers, on='customer_id', how='left')"
   ]
  },
  {
   "cell_type": "code",
   "execution_count": 286,
   "metadata": {},
   "outputs": [],
   "source": [
    "df_sales = df_sales.drop(columns=['unique_id'])"
   ]
  },
  {
   "cell_type": "code",
   "execution_count": 287,
   "metadata": {},
   "outputs": [
    {
     "data": {
      "text/plain": [
       "order_id              0\n",
       "item_id               0\n",
       "product_id            0\n",
       "price                 0\n",
       "freight_value         0\n",
       "customer_id           0\n",
       "purchase_timestamp    0\n",
       "zip_code_prefix       0\n",
       "city                  0\n",
       "state_code            0\n",
       "unique_index          0\n",
       "dtype: int64"
      ]
     },
     "execution_count": 287,
     "metadata": {},
     "output_type": "execute_result"
    }
   ],
   "source": [
    "# Check missing value\n",
    "\n",
    "df_sales.isna().sum()"
   ]
  },
  {
   "cell_type": "markdown",
   "metadata": {},
   "source": [
    "Merge df_sales and df_geolocation to take the data of latitude and longitude."
   ]
  },
  {
   "cell_type": "code",
   "execution_count": 288,
   "metadata": {},
   "outputs": [],
   "source": [
    "df_sales = pd.merge(df_sales, df_geolocation, on=['zip_code_prefix','city','state_code','unique_index'], how='left')"
   ]
  },
  {
   "cell_type": "code",
   "execution_count": 289,
   "metadata": {},
   "outputs": [
    {
     "data": {
      "text/html": [
       "<div>\n",
       "<style scoped>\n",
       "    .dataframe tbody tr th:only-of-type {\n",
       "        vertical-align: middle;\n",
       "    }\n",
       "\n",
       "    .dataframe tbody tr th {\n",
       "        vertical-align: top;\n",
       "    }\n",
       "\n",
       "    .dataframe thead th {\n",
       "        text-align: right;\n",
       "    }\n",
       "</style>\n",
       "<table border=\"1\" class=\"dataframe\">\n",
       "  <thead>\n",
       "    <tr style=\"text-align: right;\">\n",
       "      <th></th>\n",
       "      <th>order_id</th>\n",
       "      <th>item_id</th>\n",
       "      <th>product_id</th>\n",
       "      <th>price</th>\n",
       "      <th>freight_value</th>\n",
       "      <th>customer_id</th>\n",
       "      <th>purchase_timestamp</th>\n",
       "      <th>zip_code_prefix</th>\n",
       "      <th>city</th>\n",
       "      <th>state_code</th>\n",
       "      <th>unique_index</th>\n",
       "      <th>latitude</th>\n",
       "      <th>longitude</th>\n",
       "    </tr>\n",
       "  </thead>\n",
       "  <tbody>\n",
       "    <tr>\n",
       "      <th>0</th>\n",
       "      <td>00010242fe8c5a6d1ba2dd792cb16214</td>\n",
       "      <td>1</td>\n",
       "      <td>4244733e06e7ecb4970a6e2683c13e61</td>\n",
       "      <td>58.90</td>\n",
       "      <td>13.29</td>\n",
       "      <td>3ce436f183e68e07877b285a838db11a</td>\n",
       "      <td>2017-09-13 08:59:02</td>\n",
       "      <td>28013</td>\n",
       "      <td>campos dos goytacazes</td>\n",
       "      <td>RJ</td>\n",
       "      <td>28013_campos dos goytacazes_RJ</td>\n",
       "      <td>-21.763186</td>\n",
       "      <td>-41.310265</td>\n",
       "    </tr>\n",
       "    <tr>\n",
       "      <th>1</th>\n",
       "      <td>00018f77f2f0320c557190d7a144bdd3</td>\n",
       "      <td>1</td>\n",
       "      <td>e5f2d52b802189ee658865ca93d83a8f</td>\n",
       "      <td>239.90</td>\n",
       "      <td>19.93</td>\n",
       "      <td>f6dd3ec061db4e3987629fe6b26e5cce</td>\n",
       "      <td>2017-04-26 10:53:06</td>\n",
       "      <td>15775</td>\n",
       "      <td>santa fe do sul</td>\n",
       "      <td>SP</td>\n",
       "      <td>15775_santa fe do sul_SP</td>\n",
       "      <td>-20.222902</td>\n",
       "      <td>-50.898297</td>\n",
       "    </tr>\n",
       "    <tr>\n",
       "      <th>2</th>\n",
       "      <td>000229ec398224ef6ca0657da4fc703e</td>\n",
       "      <td>1</td>\n",
       "      <td>c777355d18b72b67abbeef9df44fd0fd</td>\n",
       "      <td>199.00</td>\n",
       "      <td>17.87</td>\n",
       "      <td>6489ae5e4333f3693df5ad4372dab6d3</td>\n",
       "      <td>2018-01-14 14:33:31</td>\n",
       "      <td>35661</td>\n",
       "      <td>para de minas</td>\n",
       "      <td>MG</td>\n",
       "      <td>35661_para de minas_MG</td>\n",
       "      <td>-19.869745</td>\n",
       "      <td>-44.592968</td>\n",
       "    </tr>\n",
       "    <tr>\n",
       "      <th>3</th>\n",
       "      <td>00024acbcdf0a6daa1e931b038114c75</td>\n",
       "      <td>1</td>\n",
       "      <td>7634da152a4610f1595efa32f14722fc</td>\n",
       "      <td>12.99</td>\n",
       "      <td>12.79</td>\n",
       "      <td>d4eb9395c8c0431ee92fce09860c5a06</td>\n",
       "      <td>2018-08-08 10:00:35</td>\n",
       "      <td>12952</td>\n",
       "      <td>atibaia</td>\n",
       "      <td>SP</td>\n",
       "      <td>12952_atibaia_SP</td>\n",
       "      <td>-23.105968</td>\n",
       "      <td>-46.590277</td>\n",
       "    </tr>\n",
       "    <tr>\n",
       "      <th>4</th>\n",
       "      <td>00042b26cf59d7ce69dfabb4e55b4fd9</td>\n",
       "      <td>1</td>\n",
       "      <td>ac6c3623068f30de03045865e4e10089</td>\n",
       "      <td>199.90</td>\n",
       "      <td>18.14</td>\n",
       "      <td>58dbd0b2d70206bf40e62cd34e84d795</td>\n",
       "      <td>2017-02-04 13:57:51</td>\n",
       "      <td>13226</td>\n",
       "      <td>varzea paulista</td>\n",
       "      <td>SP</td>\n",
       "      <td>13226_varzea paulista_SP</td>\n",
       "      <td>-23.243402</td>\n",
       "      <td>-46.827614</td>\n",
       "    </tr>\n",
       "  </tbody>\n",
       "</table>\n",
       "</div>"
      ],
      "text/plain": [
       "                           order_id  item_id  \\\n",
       "0  00010242fe8c5a6d1ba2dd792cb16214        1   \n",
       "1  00018f77f2f0320c557190d7a144bdd3        1   \n",
       "2  000229ec398224ef6ca0657da4fc703e        1   \n",
       "3  00024acbcdf0a6daa1e931b038114c75        1   \n",
       "4  00042b26cf59d7ce69dfabb4e55b4fd9        1   \n",
       "\n",
       "                         product_id   price  freight_value  \\\n",
       "0  4244733e06e7ecb4970a6e2683c13e61   58.90          13.29   \n",
       "1  e5f2d52b802189ee658865ca93d83a8f  239.90          19.93   \n",
       "2  c777355d18b72b67abbeef9df44fd0fd  199.00          17.87   \n",
       "3  7634da152a4610f1595efa32f14722fc   12.99          12.79   \n",
       "4  ac6c3623068f30de03045865e4e10089  199.90          18.14   \n",
       "\n",
       "                        customer_id  purchase_timestamp  zip_code_prefix  \\\n",
       "0  3ce436f183e68e07877b285a838db11a 2017-09-13 08:59:02            28013   \n",
       "1  f6dd3ec061db4e3987629fe6b26e5cce 2017-04-26 10:53:06            15775   \n",
       "2  6489ae5e4333f3693df5ad4372dab6d3 2018-01-14 14:33:31            35661   \n",
       "3  d4eb9395c8c0431ee92fce09860c5a06 2018-08-08 10:00:35            12952   \n",
       "4  58dbd0b2d70206bf40e62cd34e84d795 2017-02-04 13:57:51            13226   \n",
       "\n",
       "                    city state_code                    unique_index  \\\n",
       "0  campos dos goytacazes         RJ  28013_campos dos goytacazes_RJ   \n",
       "1        santa fe do sul         SP        15775_santa fe do sul_SP   \n",
       "2          para de minas         MG          35661_para de minas_MG   \n",
       "3                atibaia         SP                12952_atibaia_SP   \n",
       "4        varzea paulista         SP        13226_varzea paulista_SP   \n",
       "\n",
       "    latitude  longitude  \n",
       "0 -21.763186 -41.310265  \n",
       "1 -20.222902 -50.898297  \n",
       "2 -19.869745 -44.592968  \n",
       "3 -23.105968 -46.590277  \n",
       "4 -23.243402 -46.827614  "
      ]
     },
     "execution_count": 289,
     "metadata": {},
     "output_type": "execute_result"
    }
   ],
   "source": [
    "df_sales.head()"
   ]
  },
  {
   "cell_type": "code",
   "execution_count": 290,
   "metadata": {},
   "outputs": [
    {
     "data": {
      "text/plain": [
       "(104973, 13)"
      ]
     },
     "execution_count": 290,
     "metadata": {},
     "output_type": "execute_result"
    }
   ],
   "source": [
    "df_sales.shape"
   ]
  },
  {
   "cell_type": "code",
   "execution_count": 291,
   "metadata": {},
   "outputs": [
    {
     "data": {
      "text/plain": [
       "order_id                0\n",
       "item_id                 0\n",
       "product_id              0\n",
       "price                   0\n",
       "freight_value           0\n",
       "customer_id             0\n",
       "purchase_timestamp      0\n",
       "zip_code_prefix         0\n",
       "city                    0\n",
       "state_code              0\n",
       "unique_index            0\n",
       "latitude              575\n",
       "longitude             575\n",
       "dtype: int64"
      ]
     },
     "execution_count": 291,
     "metadata": {},
     "output_type": "execute_result"
    }
   ],
   "source": [
    "# Check missing value\n",
    "\n",
    "df_sales.isna().sum()"
   ]
  },
  {
   "cell_type": "markdown",
   "metadata": {},
   "source": [
    "Check missing values"
   ]
  },
  {
   "cell_type": "code",
   "execution_count": 292,
   "metadata": {},
   "outputs": [
    {
     "data": {
      "text/html": [
       "<div>\n",
       "<style scoped>\n",
       "    .dataframe tbody tr th:only-of-type {\n",
       "        vertical-align: middle;\n",
       "    }\n",
       "\n",
       "    .dataframe tbody tr th {\n",
       "        vertical-align: top;\n",
       "    }\n",
       "\n",
       "    .dataframe thead th {\n",
       "        text-align: right;\n",
       "    }\n",
       "</style>\n",
       "<table border=\"1\" class=\"dataframe\">\n",
       "  <thead>\n",
       "    <tr style=\"text-align: right;\">\n",
       "      <th></th>\n",
       "      <th>order_id</th>\n",
       "      <th>item_id</th>\n",
       "      <th>product_id</th>\n",
       "      <th>price</th>\n",
       "      <th>freight_value</th>\n",
       "      <th>customer_id</th>\n",
       "      <th>purchase_timestamp</th>\n",
       "      <th>zip_code_prefix</th>\n",
       "      <th>city</th>\n",
       "      <th>state_code</th>\n",
       "      <th>unique_index</th>\n",
       "      <th>latitude</th>\n",
       "      <th>longitude</th>\n",
       "    </tr>\n",
       "  </thead>\n",
       "  <tbody>\n",
       "    <tr>\n",
       "      <th>233</th>\n",
       "      <td>009fa9bd0d92710e840793bfefa80867</td>\n",
       "      <td>1</td>\n",
       "      <td>617186c3d97ea56c9c683a8a3974e8c1</td>\n",
       "      <td>84.99</td>\n",
       "      <td>15.34</td>\n",
       "      <td>ed19fa6ce948d52be769926c2baaa17c</td>\n",
       "      <td>2017-06-14 09:44:30</td>\n",
       "      <td>38710</td>\n",
       "      <td>major porto</td>\n",
       "      <td>MG</td>\n",
       "      <td>38710_major porto_MG</td>\n",
       "      <td>NaN</td>\n",
       "      <td>NaN</td>\n",
       "    </tr>\n",
       "    <tr>\n",
       "      <th>419</th>\n",
       "      <td>010b143d83a59b355cd5a75c0f0fd785</td>\n",
       "      <td>1</td>\n",
       "      <td>6ff1fc9209c7854704a4f75c9fac41b4</td>\n",
       "      <td>22.00</td>\n",
       "      <td>34.15</td>\n",
       "      <td>c181ea8a3ec364246642e36dae84bf30</td>\n",
       "      <td>2017-08-30 23:28:35</td>\n",
       "      <td>76870</td>\n",
       "      <td>ariquemes</td>\n",
       "      <td>RO</td>\n",
       "      <td>76870_ariquemes_RO</td>\n",
       "      <td>NaN</td>\n",
       "      <td>NaN</td>\n",
       "    </tr>\n",
       "    <tr>\n",
       "      <th>420</th>\n",
       "      <td>010b143d83a59b355cd5a75c0f0fd785</td>\n",
       "      <td>2</td>\n",
       "      <td>6ff1fc9209c7854704a4f75c9fac41b4</td>\n",
       "      <td>22.00</td>\n",
       "      <td>34.15</td>\n",
       "      <td>c181ea8a3ec364246642e36dae84bf30</td>\n",
       "      <td>2017-08-30 23:28:35</td>\n",
       "      <td>76870</td>\n",
       "      <td>ariquemes</td>\n",
       "      <td>RO</td>\n",
       "      <td>76870_ariquemes_RO</td>\n",
       "      <td>NaN</td>\n",
       "      <td>NaN</td>\n",
       "    </tr>\n",
       "    <tr>\n",
       "      <th>421</th>\n",
       "      <td>010b143d83a59b355cd5a75c0f0fd785</td>\n",
       "      <td>3</td>\n",
       "      <td>6ff1fc9209c7854704a4f75c9fac41b4</td>\n",
       "      <td>22.00</td>\n",
       "      <td>34.15</td>\n",
       "      <td>c181ea8a3ec364246642e36dae84bf30</td>\n",
       "      <td>2017-08-30 23:28:35</td>\n",
       "      <td>76870</td>\n",
       "      <td>ariquemes</td>\n",
       "      <td>RO</td>\n",
       "      <td>76870_ariquemes_RO</td>\n",
       "      <td>NaN</td>\n",
       "      <td>NaN</td>\n",
       "    </tr>\n",
       "    <tr>\n",
       "      <th>759</th>\n",
       "      <td>01d3d4cb8c553d507dfd26fbd8b41e95</td>\n",
       "      <td>1</td>\n",
       "      <td>33e77eecc23c25a65d10f627e5053617</td>\n",
       "      <td>114.94</td>\n",
       "      <td>34.16</td>\n",
       "      <td>814dfd64a142fe2564faef3932b676b9</td>\n",
       "      <td>2017-10-29 14:52:54</td>\n",
       "      <td>28655</td>\n",
       "      <td>monnerat</td>\n",
       "      <td>RJ</td>\n",
       "      <td>28655_monnerat_RJ</td>\n",
       "      <td>NaN</td>\n",
       "      <td>NaN</td>\n",
       "    </tr>\n",
       "    <tr>\n",
       "      <th>...</th>\n",
       "      <td>...</td>\n",
       "      <td>...</td>\n",
       "      <td>...</td>\n",
       "      <td>...</td>\n",
       "      <td>...</td>\n",
       "      <td>...</td>\n",
       "      <td>...</td>\n",
       "      <td>...</td>\n",
       "      <td>...</td>\n",
       "      <td>...</td>\n",
       "      <td>...</td>\n",
       "      <td>...</td>\n",
       "      <td>...</td>\n",
       "    </tr>\n",
       "    <tr>\n",
       "      <th>103926</th>\n",
       "      <td>fd5c73fb6edc88486582bf0a0bb989aa</td>\n",
       "      <td>1</td>\n",
       "      <td>5861173d9af66445f070078cfc29a597</td>\n",
       "      <td>199.99</td>\n",
       "      <td>13.84</td>\n",
       "      <td>c348e5bd22ca24a447a221536c71d8b3</td>\n",
       "      <td>2018-04-09 11:34:37</td>\n",
       "      <td>12770</td>\n",
       "      <td>pinheiros</td>\n",
       "      <td>SP</td>\n",
       "      <td>12770_pinheiros_SP</td>\n",
       "      <td>NaN</td>\n",
       "      <td>NaN</td>\n",
       "    </tr>\n",
       "    <tr>\n",
       "      <th>104375</th>\n",
       "      <td>fe784ed3dfc728fd4de44fa9918fe1eb</td>\n",
       "      <td>1</td>\n",
       "      <td>9ac1378f05cd222b3fb34a3cccc626c7</td>\n",
       "      <td>39.90</td>\n",
       "      <td>18.08</td>\n",
       "      <td>534ae76adc5da4b4f9c7b505a756d59d</td>\n",
       "      <td>2018-07-31 18:24:05</td>\n",
       "      <td>71574</td>\n",
       "      <td>brasilia</td>\n",
       "      <td>DF</td>\n",
       "      <td>71574_brasilia_DF</td>\n",
       "      <td>NaN</td>\n",
       "      <td>NaN</td>\n",
       "    </tr>\n",
       "    <tr>\n",
       "      <th>104412</th>\n",
       "      <td>fe94f63f2f4d326a6da25bfe07ffaf93</td>\n",
       "      <td>1</td>\n",
       "      <td>86ecc269de40ba13205e7beeee12f26f</td>\n",
       "      <td>29.99</td>\n",
       "      <td>15.31</td>\n",
       "      <td>1dbe0bf136ea8849ed9648546ebc2e63</td>\n",
       "      <td>2018-08-02 12:07:12</td>\n",
       "      <td>73082</td>\n",
       "      <td>brasilia</td>\n",
       "      <td>DF</td>\n",
       "      <td>73082_brasilia_DF</td>\n",
       "      <td>NaN</td>\n",
       "      <td>NaN</td>\n",
       "    </tr>\n",
       "    <tr>\n",
       "      <th>104552</th>\n",
       "      <td>feeb572a755207d889d166ca90221c84</td>\n",
       "      <td>1</td>\n",
       "      <td>40e8b425d1a26e2d9cb77363523e05ce</td>\n",
       "      <td>69.90</td>\n",
       "      <td>60.95</td>\n",
       "      <td>757bbd8c61a5fd67d5b8c18efd987beb</td>\n",
       "      <td>2017-12-07 18:00:45</td>\n",
       "      <td>69980</td>\n",
       "      <td>cruzeiro do sul</td>\n",
       "      <td>AC</td>\n",
       "      <td>69980_cruzeiro do sul_AC</td>\n",
       "      <td>NaN</td>\n",
       "      <td>NaN</td>\n",
       "    </tr>\n",
       "    <tr>\n",
       "      <th>104555</th>\n",
       "      <td>feec317d7127a4dc69cfb507f08c8759</td>\n",
       "      <td>1</td>\n",
       "      <td>aca2eb7d00ea1a7b8ebd4e68314663af</td>\n",
       "      <td>69.90</td>\n",
       "      <td>35.85</td>\n",
       "      <td>8a0108267d9258a0ec9f74381bc9b0de</td>\n",
       "      <td>2018-03-04 23:38:00</td>\n",
       "      <td>69900</td>\n",
       "      <td>rio branco</td>\n",
       "      <td>AC</td>\n",
       "      <td>69900_rio branco_AC</td>\n",
       "      <td>NaN</td>\n",
       "      <td>NaN</td>\n",
       "    </tr>\n",
       "  </tbody>\n",
       "</table>\n",
       "<p>575 rows × 13 columns</p>\n",
       "</div>"
      ],
      "text/plain": [
       "                                order_id  item_id  \\\n",
       "233     009fa9bd0d92710e840793bfefa80867        1   \n",
       "419     010b143d83a59b355cd5a75c0f0fd785        1   \n",
       "420     010b143d83a59b355cd5a75c0f0fd785        2   \n",
       "421     010b143d83a59b355cd5a75c0f0fd785        3   \n",
       "759     01d3d4cb8c553d507dfd26fbd8b41e95        1   \n",
       "...                                  ...      ...   \n",
       "103926  fd5c73fb6edc88486582bf0a0bb989aa        1   \n",
       "104375  fe784ed3dfc728fd4de44fa9918fe1eb        1   \n",
       "104412  fe94f63f2f4d326a6da25bfe07ffaf93        1   \n",
       "104552  feeb572a755207d889d166ca90221c84        1   \n",
       "104555  feec317d7127a4dc69cfb507f08c8759        1   \n",
       "\n",
       "                              product_id   price  freight_value  \\\n",
       "233     617186c3d97ea56c9c683a8a3974e8c1   84.99          15.34   \n",
       "419     6ff1fc9209c7854704a4f75c9fac41b4   22.00          34.15   \n",
       "420     6ff1fc9209c7854704a4f75c9fac41b4   22.00          34.15   \n",
       "421     6ff1fc9209c7854704a4f75c9fac41b4   22.00          34.15   \n",
       "759     33e77eecc23c25a65d10f627e5053617  114.94          34.16   \n",
       "...                                  ...     ...            ...   \n",
       "103926  5861173d9af66445f070078cfc29a597  199.99          13.84   \n",
       "104375  9ac1378f05cd222b3fb34a3cccc626c7   39.90          18.08   \n",
       "104412  86ecc269de40ba13205e7beeee12f26f   29.99          15.31   \n",
       "104552  40e8b425d1a26e2d9cb77363523e05ce   69.90          60.95   \n",
       "104555  aca2eb7d00ea1a7b8ebd4e68314663af   69.90          35.85   \n",
       "\n",
       "                             customer_id  purchase_timestamp  zip_code_prefix  \\\n",
       "233     ed19fa6ce948d52be769926c2baaa17c 2017-06-14 09:44:30            38710   \n",
       "419     c181ea8a3ec364246642e36dae84bf30 2017-08-30 23:28:35            76870   \n",
       "420     c181ea8a3ec364246642e36dae84bf30 2017-08-30 23:28:35            76870   \n",
       "421     c181ea8a3ec364246642e36dae84bf30 2017-08-30 23:28:35            76870   \n",
       "759     814dfd64a142fe2564faef3932b676b9 2017-10-29 14:52:54            28655   \n",
       "...                                  ...                 ...              ...   \n",
       "103926  c348e5bd22ca24a447a221536c71d8b3 2018-04-09 11:34:37            12770   \n",
       "104375  534ae76adc5da4b4f9c7b505a756d59d 2018-07-31 18:24:05            71574   \n",
       "104412  1dbe0bf136ea8849ed9648546ebc2e63 2018-08-02 12:07:12            73082   \n",
       "104552  757bbd8c61a5fd67d5b8c18efd987beb 2017-12-07 18:00:45            69980   \n",
       "104555  8a0108267d9258a0ec9f74381bc9b0de 2018-03-04 23:38:00            69900   \n",
       "\n",
       "                   city state_code              unique_index  latitude  \\\n",
       "233         major porto         MG      38710_major porto_MG       NaN   \n",
       "419           ariquemes         RO        76870_ariquemes_RO       NaN   \n",
       "420           ariquemes         RO        76870_ariquemes_RO       NaN   \n",
       "421           ariquemes         RO        76870_ariquemes_RO       NaN   \n",
       "759            monnerat         RJ         28655_monnerat_RJ       NaN   \n",
       "...                 ...        ...                       ...       ...   \n",
       "103926        pinheiros         SP        12770_pinheiros_SP       NaN   \n",
       "104375         brasilia         DF         71574_brasilia_DF       NaN   \n",
       "104412         brasilia         DF         73082_brasilia_DF       NaN   \n",
       "104552  cruzeiro do sul         AC  69980_cruzeiro do sul_AC       NaN   \n",
       "104555       rio branco         AC       69900_rio branco_AC       NaN   \n",
       "\n",
       "        longitude  \n",
       "233           NaN  \n",
       "419           NaN  \n",
       "420           NaN  \n",
       "421           NaN  \n",
       "759           NaN  \n",
       "...           ...  \n",
       "103926        NaN  \n",
       "104375        NaN  \n",
       "104412        NaN  \n",
       "104552        NaN  \n",
       "104555        NaN  \n",
       "\n",
       "[575 rows x 13 columns]"
      ]
     },
     "execution_count": 292,
     "metadata": {},
     "output_type": "execute_result"
    }
   ],
   "source": [
    "missing_values = df_sales[df_sales['latitude'].isnull()]\n",
    "missing_values"
   ]
  },
  {
   "cell_type": "code",
   "execution_count": 293,
   "metadata": {},
   "outputs": [
    {
     "data": {
      "text/html": [
       "<div>\n",
       "<style scoped>\n",
       "    .dataframe tbody tr th:only-of-type {\n",
       "        vertical-align: middle;\n",
       "    }\n",
       "\n",
       "    .dataframe tbody tr th {\n",
       "        vertical-align: top;\n",
       "    }\n",
       "\n",
       "    .dataframe thead th {\n",
       "        text-align: right;\n",
       "    }\n",
       "</style>\n",
       "<table border=\"1\" class=\"dataframe\">\n",
       "  <thead>\n",
       "    <tr style=\"text-align: right;\">\n",
       "      <th></th>\n",
       "      <th>zip_code_prefix</th>\n",
       "      <th>city</th>\n",
       "      <th>state_code</th>\n",
       "      <th>latitude</th>\n",
       "      <th>longitude</th>\n",
       "      <th>unique_index</th>\n",
       "    </tr>\n",
       "  </thead>\n",
       "  <tbody>\n",
       "  </tbody>\n",
       "</table>\n",
       "</div>"
      ],
      "text/plain": [
       "Empty DataFrame\n",
       "Columns: [zip_code_prefix, city, state_code, latitude, longitude, unique_index]\n",
       "Index: []"
      ]
     },
     "execution_count": 293,
     "metadata": {},
     "output_type": "execute_result"
    }
   ],
   "source": [
    "df_geolocation[(df_geolocation['zip_code_prefix'] == '38710') & (df_geolocation['city'] == 'major porto') & (df_geolocation['state_code'] == 'MG')]"
   ]
  },
  {
   "cell_type": "code",
   "execution_count": 294,
   "metadata": {},
   "outputs": [],
   "source": [
    "# It's also checked in the raw data but it still has missing value. So, it's better to drop it.\n",
    "# df_geolocation[(df_geolocation['geolocation_zip_code_prefix'] == '38710') & (df_geolocation['geolocation_city'] == 'major porto') & (df_geolocation['geolocation_state'] == 'MG')]"
   ]
  },
  {
   "cell_type": "code",
   "execution_count": 295,
   "metadata": {},
   "outputs": [
    {
     "data": {
      "text/plain": [
       "108.80518260869566"
      ]
     },
     "execution_count": 295,
     "metadata": {},
     "output_type": "execute_result"
    }
   ],
   "source": [
    "missing_values['price'].min() # Output: 5.6\n",
    "missing_values['price'].max() # Output: 610\n",
    "missing_values['price'].mean() # Output: 108.8"
   ]
  },
  {
   "cell_type": "markdown",
   "metadata": {},
   "source": [
    "We can drop the missing values."
   ]
  },
  {
   "cell_type": "code",
   "execution_count": 296,
   "metadata": {},
   "outputs": [],
   "source": [
    "df_sales = df_sales.dropna()"
   ]
  },
  {
   "cell_type": "markdown",
   "metadata": {},
   "source": [
    "Merge df_sales and df_states to take the data of state_name and population."
   ]
  },
  {
   "cell_type": "code",
   "execution_count": 297,
   "metadata": {},
   "outputs": [],
   "source": [
    "df_sales = pd.merge(df_sales, df_states, on=['state_code'], how='left')"
   ]
  },
  {
   "cell_type": "code",
   "execution_count": 298,
   "metadata": {},
   "outputs": [],
   "source": [
    "df_sales = df_sales.drop(columns=['unique_index','population'])"
   ]
  },
  {
   "cell_type": "markdown",
   "metadata": {},
   "source": [
    "Merge df_sales and df_products to take the data of category_name."
   ]
  },
  {
   "cell_type": "code",
   "execution_count": 299,
   "metadata": {},
   "outputs": [],
   "source": [
    "df_sales = pd.merge(df_sales, df_products, on=['product_id'], how='left')"
   ]
  },
  {
   "cell_type": "code",
   "execution_count": 300,
   "metadata": {},
   "outputs": [],
   "source": [
    "df_sales = df_sales.drop(columns=['name_length','description_length','photos_quantity','weight_g','length_cm','height_cm','width_cm'])"
   ]
  },
  {
   "cell_type": "markdown",
   "metadata": {},
   "source": [
    "Merge df_sales and df_category_translation to take the data of category_english."
   ]
  },
  {
   "cell_type": "code",
   "execution_count": 301,
   "metadata": {},
   "outputs": [],
   "source": [
    "df_sales = pd.merge(df_sales, df_category_translation, on=['category'], how='left')"
   ]
  },
  {
   "cell_type": "code",
   "execution_count": 302,
   "metadata": {},
   "outputs": [
    {
     "data": {
      "text/html": [
       "<div>\n",
       "<style scoped>\n",
       "    .dataframe tbody tr th:only-of-type {\n",
       "        vertical-align: middle;\n",
       "    }\n",
       "\n",
       "    .dataframe tbody tr th {\n",
       "        vertical-align: top;\n",
       "    }\n",
       "\n",
       "    .dataframe thead th {\n",
       "        text-align: right;\n",
       "    }\n",
       "</style>\n",
       "<table border=\"1\" class=\"dataframe\">\n",
       "  <thead>\n",
       "    <tr style=\"text-align: right;\">\n",
       "      <th></th>\n",
       "      <th>order_id</th>\n",
       "      <th>item_id</th>\n",
       "      <th>product_id</th>\n",
       "      <th>price</th>\n",
       "      <th>freight_value</th>\n",
       "      <th>customer_id</th>\n",
       "      <th>purchase_timestamp</th>\n",
       "      <th>zip_code_prefix</th>\n",
       "      <th>city</th>\n",
       "      <th>state_code</th>\n",
       "      <th>latitude</th>\n",
       "      <th>longitude</th>\n",
       "      <th>state_name</th>\n",
       "      <th>category</th>\n",
       "      <th>category_english</th>\n",
       "    </tr>\n",
       "  </thead>\n",
       "  <tbody>\n",
       "    <tr>\n",
       "      <th>0</th>\n",
       "      <td>00010242fe8c5a6d1ba2dd792cb16214</td>\n",
       "      <td>1</td>\n",
       "      <td>4244733e06e7ecb4970a6e2683c13e61</td>\n",
       "      <td>58.9</td>\n",
       "      <td>13.29</td>\n",
       "      <td>3ce436f183e68e07877b285a838db11a</td>\n",
       "      <td>2017-09-13 08:59:02</td>\n",
       "      <td>28013</td>\n",
       "      <td>campos dos goytacazes</td>\n",
       "      <td>RJ</td>\n",
       "      <td>-21.763186</td>\n",
       "      <td>-41.310265</td>\n",
       "      <td>Rio de Janeiro</td>\n",
       "      <td>cool_stuff</td>\n",
       "      <td>cool_stuff</td>\n",
       "    </tr>\n",
       "    <tr>\n",
       "      <th>1</th>\n",
       "      <td>00018f77f2f0320c557190d7a144bdd3</td>\n",
       "      <td>1</td>\n",
       "      <td>e5f2d52b802189ee658865ca93d83a8f</td>\n",
       "      <td>239.9</td>\n",
       "      <td>19.93</td>\n",
       "      <td>f6dd3ec061db4e3987629fe6b26e5cce</td>\n",
       "      <td>2017-04-26 10:53:06</td>\n",
       "      <td>15775</td>\n",
       "      <td>santa fe do sul</td>\n",
       "      <td>SP</td>\n",
       "      <td>-20.222902</td>\n",
       "      <td>-50.898297</td>\n",
       "      <td>São Paulo</td>\n",
       "      <td>pet_shop</td>\n",
       "      <td>pet_shop</td>\n",
       "    </tr>\n",
       "    <tr>\n",
       "      <th>2</th>\n",
       "      <td>000229ec398224ef6ca0657da4fc703e</td>\n",
       "      <td>1</td>\n",
       "      <td>c777355d18b72b67abbeef9df44fd0fd</td>\n",
       "      <td>199.0</td>\n",
       "      <td>17.87</td>\n",
       "      <td>6489ae5e4333f3693df5ad4372dab6d3</td>\n",
       "      <td>2018-01-14 14:33:31</td>\n",
       "      <td>35661</td>\n",
       "      <td>para de minas</td>\n",
       "      <td>MG</td>\n",
       "      <td>-19.869745</td>\n",
       "      <td>-44.592968</td>\n",
       "      <td>Minas Gerais</td>\n",
       "      <td>moveis_decoracao</td>\n",
       "      <td>furniture_decor</td>\n",
       "    </tr>\n",
       "  </tbody>\n",
       "</table>\n",
       "</div>"
      ],
      "text/plain": [
       "                           order_id  item_id  \\\n",
       "0  00010242fe8c5a6d1ba2dd792cb16214        1   \n",
       "1  00018f77f2f0320c557190d7a144bdd3        1   \n",
       "2  000229ec398224ef6ca0657da4fc703e        1   \n",
       "\n",
       "                         product_id  price  freight_value  \\\n",
       "0  4244733e06e7ecb4970a6e2683c13e61   58.9          13.29   \n",
       "1  e5f2d52b802189ee658865ca93d83a8f  239.9          19.93   \n",
       "2  c777355d18b72b67abbeef9df44fd0fd  199.0          17.87   \n",
       "\n",
       "                        customer_id  purchase_timestamp  zip_code_prefix  \\\n",
       "0  3ce436f183e68e07877b285a838db11a 2017-09-13 08:59:02            28013   \n",
       "1  f6dd3ec061db4e3987629fe6b26e5cce 2017-04-26 10:53:06            15775   \n",
       "2  6489ae5e4333f3693df5ad4372dab6d3 2018-01-14 14:33:31            35661   \n",
       "\n",
       "                    city state_code   latitude  longitude      state_name  \\\n",
       "0  campos dos goytacazes         RJ -21.763186 -41.310265  Rio de Janeiro   \n",
       "1        santa fe do sul         SP -20.222902 -50.898297       São Paulo   \n",
       "2          para de minas         MG -19.869745 -44.592968    Minas Gerais   \n",
       "\n",
       "           category category_english  \n",
       "0        cool_stuff       cool_stuff  \n",
       "1          pet_shop         pet_shop  \n",
       "2  moveis_decoracao  furniture_decor  "
      ]
     },
     "execution_count": 302,
     "metadata": {},
     "output_type": "execute_result"
    }
   ],
   "source": [
    "df_sales.head(3)"
   ]
  },
  {
   "cell_type": "code",
   "execution_count": 303,
   "metadata": {},
   "outputs": [
    {
     "data": {
      "text/plain": [
       "74"
      ]
     },
     "execution_count": 303,
     "metadata": {},
     "output_type": "execute_result"
    }
   ],
   "source": [
    "df_sales['category'].nunique()"
   ]
  },
  {
   "cell_type": "code",
   "execution_count": 304,
   "metadata": {},
   "outputs": [
    {
     "data": {
      "text/plain": [
       "order_id                 0\n",
       "item_id                  0\n",
       "product_id               0\n",
       "price                    0\n",
       "freight_value            0\n",
       "customer_id              0\n",
       "purchase_timestamp       0\n",
       "zip_code_prefix          0\n",
       "city                     0\n",
       "state_code               0\n",
       "latitude                 0\n",
       "longitude                0\n",
       "state_name               0\n",
       "category                 0\n",
       "category_english      1491\n",
       "dtype: int64"
      ]
     },
     "execution_count": 304,
     "metadata": {},
     "output_type": "execute_result"
    }
   ],
   "source": [
    "df_sales.isna().sum()"
   ]
  },
  {
   "cell_type": "code",
   "execution_count": 305,
   "metadata": {},
   "outputs": [],
   "source": [
    "df_sales['category_english'] = df_sales['category_english'].fillna(df_sales['category'])"
   ]
  },
  {
   "cell_type": "code",
   "execution_count": 306,
   "metadata": {},
   "outputs": [
    {
     "data": {
      "text/html": [
       "<div>\n",
       "<style scoped>\n",
       "    .dataframe tbody tr th:only-of-type {\n",
       "        vertical-align: middle;\n",
       "    }\n",
       "\n",
       "    .dataframe tbody tr th {\n",
       "        vertical-align: top;\n",
       "    }\n",
       "\n",
       "    .dataframe thead th {\n",
       "        text-align: right;\n",
       "    }\n",
       "</style>\n",
       "<table border=\"1\" class=\"dataframe\">\n",
       "  <thead>\n",
       "    <tr style=\"text-align: right;\">\n",
       "      <th></th>\n",
       "      <th>order_id</th>\n",
       "      <th>item_id</th>\n",
       "      <th>product_id</th>\n",
       "      <th>price</th>\n",
       "      <th>freight_value</th>\n",
       "      <th>customer_id</th>\n",
       "      <th>purchase_timestamp</th>\n",
       "      <th>zip_code_prefix</th>\n",
       "      <th>city</th>\n",
       "      <th>state_code</th>\n",
       "      <th>latitude</th>\n",
       "      <th>longitude</th>\n",
       "      <th>state_name</th>\n",
       "      <th>category</th>\n",
       "      <th>category_english</th>\n",
       "    </tr>\n",
       "  </thead>\n",
       "  <tbody>\n",
       "    <tr>\n",
       "      <th>0</th>\n",
       "      <td>00010242fe8c5a6d1ba2dd792cb16214</td>\n",
       "      <td>1</td>\n",
       "      <td>4244733e06e7ecb4970a6e2683c13e61</td>\n",
       "      <td>58.90</td>\n",
       "      <td>13.29</td>\n",
       "      <td>3ce436f183e68e07877b285a838db11a</td>\n",
       "      <td>2017-09-13 08:59:02</td>\n",
       "      <td>28013</td>\n",
       "      <td>campos dos goytacazes</td>\n",
       "      <td>RJ</td>\n",
       "      <td>-21.763186</td>\n",
       "      <td>-41.310265</td>\n",
       "      <td>Rio de Janeiro</td>\n",
       "      <td>cool_stuff</td>\n",
       "      <td>cool_stuff</td>\n",
       "    </tr>\n",
       "    <tr>\n",
       "      <th>1</th>\n",
       "      <td>00018f77f2f0320c557190d7a144bdd3</td>\n",
       "      <td>1</td>\n",
       "      <td>e5f2d52b802189ee658865ca93d83a8f</td>\n",
       "      <td>239.90</td>\n",
       "      <td>19.93</td>\n",
       "      <td>f6dd3ec061db4e3987629fe6b26e5cce</td>\n",
       "      <td>2017-04-26 10:53:06</td>\n",
       "      <td>15775</td>\n",
       "      <td>santa fe do sul</td>\n",
       "      <td>SP</td>\n",
       "      <td>-20.222902</td>\n",
       "      <td>-50.898297</td>\n",
       "      <td>São Paulo</td>\n",
       "      <td>pet_shop</td>\n",
       "      <td>pet_shop</td>\n",
       "    </tr>\n",
       "    <tr>\n",
       "      <th>2</th>\n",
       "      <td>000229ec398224ef6ca0657da4fc703e</td>\n",
       "      <td>1</td>\n",
       "      <td>c777355d18b72b67abbeef9df44fd0fd</td>\n",
       "      <td>199.00</td>\n",
       "      <td>17.87</td>\n",
       "      <td>6489ae5e4333f3693df5ad4372dab6d3</td>\n",
       "      <td>2018-01-14 14:33:31</td>\n",
       "      <td>35661</td>\n",
       "      <td>para de minas</td>\n",
       "      <td>MG</td>\n",
       "      <td>-19.869745</td>\n",
       "      <td>-44.592968</td>\n",
       "      <td>Minas Gerais</td>\n",
       "      <td>moveis_decoracao</td>\n",
       "      <td>furniture_decor</td>\n",
       "    </tr>\n",
       "    <tr>\n",
       "      <th>3</th>\n",
       "      <td>00024acbcdf0a6daa1e931b038114c75</td>\n",
       "      <td>1</td>\n",
       "      <td>7634da152a4610f1595efa32f14722fc</td>\n",
       "      <td>12.99</td>\n",
       "      <td>12.79</td>\n",
       "      <td>d4eb9395c8c0431ee92fce09860c5a06</td>\n",
       "      <td>2018-08-08 10:00:35</td>\n",
       "      <td>12952</td>\n",
       "      <td>atibaia</td>\n",
       "      <td>SP</td>\n",
       "      <td>-23.105968</td>\n",
       "      <td>-46.590277</td>\n",
       "      <td>São Paulo</td>\n",
       "      <td>perfumaria</td>\n",
       "      <td>perfumery</td>\n",
       "    </tr>\n",
       "    <tr>\n",
       "      <th>4</th>\n",
       "      <td>00042b26cf59d7ce69dfabb4e55b4fd9</td>\n",
       "      <td>1</td>\n",
       "      <td>ac6c3623068f30de03045865e4e10089</td>\n",
       "      <td>199.90</td>\n",
       "      <td>18.14</td>\n",
       "      <td>58dbd0b2d70206bf40e62cd34e84d795</td>\n",
       "      <td>2017-02-04 13:57:51</td>\n",
       "      <td>13226</td>\n",
       "      <td>varzea paulista</td>\n",
       "      <td>SP</td>\n",
       "      <td>-23.243402</td>\n",
       "      <td>-46.827614</td>\n",
       "      <td>São Paulo</td>\n",
       "      <td>ferramentas_jardim</td>\n",
       "      <td>garden_tools</td>\n",
       "    </tr>\n",
       "  </tbody>\n",
       "</table>\n",
       "</div>"
      ],
      "text/plain": [
       "                           order_id  item_id  \\\n",
       "0  00010242fe8c5a6d1ba2dd792cb16214        1   \n",
       "1  00018f77f2f0320c557190d7a144bdd3        1   \n",
       "2  000229ec398224ef6ca0657da4fc703e        1   \n",
       "3  00024acbcdf0a6daa1e931b038114c75        1   \n",
       "4  00042b26cf59d7ce69dfabb4e55b4fd9        1   \n",
       "\n",
       "                         product_id   price  freight_value  \\\n",
       "0  4244733e06e7ecb4970a6e2683c13e61   58.90          13.29   \n",
       "1  e5f2d52b802189ee658865ca93d83a8f  239.90          19.93   \n",
       "2  c777355d18b72b67abbeef9df44fd0fd  199.00          17.87   \n",
       "3  7634da152a4610f1595efa32f14722fc   12.99          12.79   \n",
       "4  ac6c3623068f30de03045865e4e10089  199.90          18.14   \n",
       "\n",
       "                        customer_id  purchase_timestamp  zip_code_prefix  \\\n",
       "0  3ce436f183e68e07877b285a838db11a 2017-09-13 08:59:02            28013   \n",
       "1  f6dd3ec061db4e3987629fe6b26e5cce 2017-04-26 10:53:06            15775   \n",
       "2  6489ae5e4333f3693df5ad4372dab6d3 2018-01-14 14:33:31            35661   \n",
       "3  d4eb9395c8c0431ee92fce09860c5a06 2018-08-08 10:00:35            12952   \n",
       "4  58dbd0b2d70206bf40e62cd34e84d795 2017-02-04 13:57:51            13226   \n",
       "\n",
       "                    city state_code   latitude  longitude      state_name  \\\n",
       "0  campos dos goytacazes         RJ -21.763186 -41.310265  Rio de Janeiro   \n",
       "1        santa fe do sul         SP -20.222902 -50.898297       São Paulo   \n",
       "2          para de minas         MG -19.869745 -44.592968    Minas Gerais   \n",
       "3                atibaia         SP -23.105968 -46.590277       São Paulo   \n",
       "4        varzea paulista         SP -23.243402 -46.827614       São Paulo   \n",
       "\n",
       "             category category_english  \n",
       "0          cool_stuff       cool_stuff  \n",
       "1            pet_shop         pet_shop  \n",
       "2    moveis_decoracao  furniture_decor  \n",
       "3          perfumaria        perfumery  \n",
       "4  ferramentas_jardim     garden_tools  "
      ]
     },
     "execution_count": 306,
     "metadata": {},
     "output_type": "execute_result"
    }
   ],
   "source": [
    "df_sales.head()"
   ]
  },
  {
   "cell_type": "code",
   "execution_count": 307,
   "metadata": {},
   "outputs": [
    {
     "data": {
      "text/plain": [
       "order_id              0\n",
       "item_id               0\n",
       "product_id            0\n",
       "price                 0\n",
       "freight_value         0\n",
       "customer_id           0\n",
       "purchase_timestamp    0\n",
       "zip_code_prefix       0\n",
       "city                  0\n",
       "state_code            0\n",
       "latitude              0\n",
       "longitude             0\n",
       "state_name            0\n",
       "category              0\n",
       "category_english      0\n",
       "dtype: int64"
      ]
     },
     "execution_count": 307,
     "metadata": {},
     "output_type": "execute_result"
    }
   ],
   "source": [
    "df_sales.isna().sum()"
   ]
  },
  {
   "cell_type": "markdown",
   "metadata": {},
   "source": [
    "Check duplicates"
   ]
  },
  {
   "cell_type": "code",
   "execution_count": 308,
   "metadata": {},
   "outputs": [
    {
     "name": "stdout",
     "output_type": "stream",
     "text": [
      "Number of rows: 104398\n",
      "Number of columns: 15\n",
      "Number of duplicates: 0\n",
      "\n",
      "Numerical Columns: Index(['item_id', 'price', 'freight_value', 'zip_code_prefix', 'latitude',\n",
      "       'longitude'],\n",
      "      dtype='object')\n",
      "\n",
      "Categorical Columns: Index(['order_id', 'product_id', 'customer_id', 'city', 'state_code',\n",
      "       'state_name', 'category', 'category_english'],\n",
      "      dtype='object')\n"
     ]
    },
    {
     "data": {
      "text/html": [
       "<div>\n",
       "<style scoped>\n",
       "    .dataframe tbody tr th:only-of-type {\n",
       "        vertical-align: middle;\n",
       "    }\n",
       "\n",
       "    .dataframe tbody tr th {\n",
       "        vertical-align: top;\n",
       "    }\n",
       "\n",
       "    .dataframe thead th {\n",
       "        text-align: right;\n",
       "    }\n",
       "</style>\n",
       "<table border=\"1\" class=\"dataframe\">\n",
       "  <thead>\n",
       "    <tr style=\"text-align: right;\">\n",
       "      <th></th>\n",
       "      <th>Column</th>\n",
       "      <th>Data Type</th>\n",
       "      <th>Non-Null Count</th>\n",
       "      <th>Missing Values</th>\n",
       "      <th>Unique Values</th>\n",
       "    </tr>\n",
       "  </thead>\n",
       "  <tbody>\n",
       "    <tr>\n",
       "      <th>0</th>\n",
       "      <td>order_id</td>\n",
       "      <td>object</td>\n",
       "      <td>104398</td>\n",
       "      <td>0</td>\n",
       "      <td>92821</td>\n",
       "    </tr>\n",
       "    <tr>\n",
       "      <th>1</th>\n",
       "      <td>item_id</td>\n",
       "      <td>int64</td>\n",
       "      <td>104398</td>\n",
       "      <td>0</td>\n",
       "      <td>3</td>\n",
       "    </tr>\n",
       "    <tr>\n",
       "      <th>2</th>\n",
       "      <td>product_id</td>\n",
       "      <td>object</td>\n",
       "      <td>104398</td>\n",
       "      <td>0</td>\n",
       "      <td>30660</td>\n",
       "    </tr>\n",
       "    <tr>\n",
       "      <th>3</th>\n",
       "      <td>price</td>\n",
       "      <td>float64</td>\n",
       "      <td>104398</td>\n",
       "      <td>0</td>\n",
       "      <td>5142</td>\n",
       "    </tr>\n",
       "    <tr>\n",
       "      <th>4</th>\n",
       "      <td>freight_value</td>\n",
       "      <td>float64</td>\n",
       "      <td>104398</td>\n",
       "      <td>0</td>\n",
       "      <td>5412</td>\n",
       "    </tr>\n",
       "    <tr>\n",
       "      <th>5</th>\n",
       "      <td>customer_id</td>\n",
       "      <td>object</td>\n",
       "      <td>104398</td>\n",
       "      <td>0</td>\n",
       "      <td>92821</td>\n",
       "    </tr>\n",
       "    <tr>\n",
       "      <th>6</th>\n",
       "      <td>purchase_timestamp</td>\n",
       "      <td>datetime64[ns]</td>\n",
       "      <td>104398</td>\n",
       "      <td>0</td>\n",
       "      <td>92329</td>\n",
       "    </tr>\n",
       "    <tr>\n",
       "      <th>7</th>\n",
       "      <td>zip_code_prefix</td>\n",
       "      <td>int64</td>\n",
       "      <td>104398</td>\n",
       "      <td>0</td>\n",
       "      <td>14515</td>\n",
       "    </tr>\n",
       "    <tr>\n",
       "      <th>8</th>\n",
       "      <td>city</td>\n",
       "      <td>object</td>\n",
       "      <td>104398</td>\n",
       "      <td>0</td>\n",
       "      <td>3936</td>\n",
       "    </tr>\n",
       "    <tr>\n",
       "      <th>9</th>\n",
       "      <td>state_code</td>\n",
       "      <td>object</td>\n",
       "      <td>104398</td>\n",
       "      <td>0</td>\n",
       "      <td>26</td>\n",
       "    </tr>\n",
       "    <tr>\n",
       "      <th>10</th>\n",
       "      <td>latitude</td>\n",
       "      <td>float64</td>\n",
       "      <td>104398</td>\n",
       "      <td>0</td>\n",
       "      <td>14544</td>\n",
       "    </tr>\n",
       "    <tr>\n",
       "      <th>11</th>\n",
       "      <td>longitude</td>\n",
       "      <td>float64</td>\n",
       "      <td>104398</td>\n",
       "      <td>0</td>\n",
       "      <td>14544</td>\n",
       "    </tr>\n",
       "    <tr>\n",
       "      <th>12</th>\n",
       "      <td>state_name</td>\n",
       "      <td>object</td>\n",
       "      <td>104398</td>\n",
       "      <td>0</td>\n",
       "      <td>26</td>\n",
       "    </tr>\n",
       "    <tr>\n",
       "      <th>13</th>\n",
       "      <td>category</td>\n",
       "      <td>object</td>\n",
       "      <td>104398</td>\n",
       "      <td>0</td>\n",
       "      <td>74</td>\n",
       "    </tr>\n",
       "    <tr>\n",
       "      <th>14</th>\n",
       "      <td>category_english</td>\n",
       "      <td>object</td>\n",
       "      <td>104398</td>\n",
       "      <td>0</td>\n",
       "      <td>74</td>\n",
       "    </tr>\n",
       "  </tbody>\n",
       "</table>\n",
       "</div>"
      ],
      "text/plain": [
       "                Column       Data Type  Non-Null Count  Missing Values  \\\n",
       "0             order_id          object          104398               0   \n",
       "1              item_id           int64          104398               0   \n",
       "2           product_id          object          104398               0   \n",
       "3                price         float64          104398               0   \n",
       "4        freight_value         float64          104398               0   \n",
       "5          customer_id          object          104398               0   \n",
       "6   purchase_timestamp  datetime64[ns]          104398               0   \n",
       "7      zip_code_prefix           int64          104398               0   \n",
       "8                 city          object          104398               0   \n",
       "9           state_code          object          104398               0   \n",
       "10            latitude         float64          104398               0   \n",
       "11           longitude         float64          104398               0   \n",
       "12          state_name          object          104398               0   \n",
       "13            category          object          104398               0   \n",
       "14    category_english          object          104398               0   \n",
       "\n",
       "    Unique Values  \n",
       "0           92821  \n",
       "1               3  \n",
       "2           30660  \n",
       "3            5142  \n",
       "4            5412  \n",
       "5           92821  \n",
       "6           92329  \n",
       "7           14515  \n",
       "8            3936  \n",
       "9              26  \n",
       "10          14544  \n",
       "11          14544  \n",
       "12             26  \n",
       "13             74  \n",
       "14             74  "
      ]
     },
     "execution_count": 308,
     "metadata": {},
     "output_type": "execute_result"
    }
   ],
   "source": [
    "data_exploration(df_sales)"
   ]
  },
  {
   "cell_type": "code",
   "execution_count": 309,
   "metadata": {},
   "outputs": [
    {
     "data": {
      "text/plain": [
       "category_english\n",
       "bed_bath_table                                   10657\n",
       "health_beauty                                     9052\n",
       "sports_leisure                                    8154\n",
       "furniture_decor                                   7674\n",
       "computers_accessories                             7263\n",
       "                                                 ...  \n",
       "la_cuisine                                          14\n",
       "portateis_cozinha_e_preparadores_de_alimentos       11\n",
       "pc_gamer                                             8\n",
       "fashion_childrens_clothes                            7\n",
       "security_and_services                                2\n",
       "Name: count, Length: 74, dtype: int64"
      ]
     },
     "execution_count": 309,
     "metadata": {},
     "output_type": "execute_result"
    }
   ],
   "source": [
    "df_sales['category_english'].value_counts()"
   ]
  },
  {
   "cell_type": "markdown",
   "metadata": {},
   "source": [
    "Save df_sales into cleaned data"
   ]
  },
  {
   "cell_type": "code",
   "execution_count": 310,
   "metadata": {},
   "outputs": [],
   "source": [
    "df_sales.to_csv('../../data/cleaned/df_sales.csv', index=False)"
   ]
  },
  {
   "cell_type": "markdown",
   "metadata": {},
   "source": [
    "# EDA"
   ]
  },
  {
   "cell_type": "markdown",
   "metadata": {},
   "source": [
    "### Numerical columns"
   ]
  },
  {
   "cell_type": "code",
   "execution_count": 311,
   "metadata": {},
   "outputs": [
    {
     "data": {
      "image/png": "[encoded data removed]",
      "text/plain": [
       "<Figure size 1000x400 with 2 Axes>"
      ]
     },
     "metadata": {},
     "output_type": "display_data"
    },
    {
     "data": {
      "image/png": "[encoded data removed]",
      "text/plain": [
       "<Figure size 1000x400 with 2 Axes>"
      ]
     },
     "metadata": {},
     "output_type": "display_data"
    },
    {
     "data": {
      "image/png": "[encoded data removed]",
      "text/plain": [
       "<Figure size 1000x400 with 2 Axes>"
      ]
     },
     "metadata": {},
     "output_type": "display_data"
    },
    {
     "data": {
      "image/png": "[encoded data removed]",
      "text/plain": [
       "<Figure size 1000x400 with 2 Axes>"
      ]
     },
     "metadata": {},
     "output_type": "display_data"
    },
    {
     "data": {
      "image/png": "[encoded data removed]",
      "text/plain": [
       "<Figure size 1000x400 with 2 Axes>"
      ]
     },
     "metadata": {},
     "output_type": "display_data"
    },
    {
     "data": {
      "image/png": "[encoded data removed]",
      "text/plain": [
       "<Figure size 1000x400 with 2 Axes>"
      ]
     },
     "metadata": {},
     "output_type": "display_data"
    },
    {
     "data": {
      "text/html": [
       "<div>\n",
       "<style scoped>\n",
       "    .dataframe tbody tr th:only-of-type {\n",
       "        vertical-align: middle;\n",
       "    }\n",
       "\n",
       "    .dataframe tbody tr th {\n",
       "        vertical-align: top;\n",
       "    }\n",
       "\n",
       "    .dataframe thead th {\n",
       "        text-align: right;\n",
       "    }\n",
       "</style>\n",
       "<table border=\"1\" class=\"dataframe\">\n",
       "  <thead>\n",
       "    <tr style=\"text-align: right;\">\n",
       "      <th></th>\n",
       "      <th>Column</th>\n",
       "      <th>Mean</th>\n",
       "      <th>Median</th>\n",
       "      <th>Mode</th>\n",
       "      <th>Variance</th>\n",
       "      <th>Standard Deviation</th>\n",
       "      <th>Min Value</th>\n",
       "      <th>Max Value</th>\n",
       "      <th>Range</th>\n",
       "      <th>Interquartile Range</th>\n",
       "      <th>Skewness</th>\n",
       "      <th>Kurtosis</th>\n",
       "    </tr>\n",
       "  </thead>\n",
       "  <tbody>\n",
       "    <tr>\n",
       "      <th>0</th>\n",
       "      <td>item_id</td>\n",
       "      <td>1.13</td>\n",
       "      <td>1.00</td>\n",
       "      <td>1.00</td>\n",
       "      <td>1.600000e-01</td>\n",
       "      <td>0.40</td>\n",
       "      <td>1.000000</td>\n",
       "      <td>3.000000</td>\n",
       "      <td>2.000000</td>\n",
       "      <td>0.000000</td>\n",
       "      <td>3.12</td>\n",
       "      <td>9.49</td>\n",
       "    </tr>\n",
       "    <tr>\n",
       "      <th>1</th>\n",
       "      <td>price</td>\n",
       "      <td>100.27</td>\n",
       "      <td>69.99</td>\n",
       "      <td>59.90</td>\n",
       "      <td>8.795210e+03</td>\n",
       "      <td>93.78</td>\n",
       "      <td>0.850000</td>\n",
       "      <td>670.000000</td>\n",
       "      <td>669.150000</td>\n",
       "      <td>89.100000</td>\n",
       "      <td>2.47</td>\n",
       "      <td>8.14</td>\n",
       "    </tr>\n",
       "    <tr>\n",
       "      <th>2</th>\n",
       "      <td>freight_value</td>\n",
       "      <td>18.26</td>\n",
       "      <td>16.11</td>\n",
       "      <td>15.10</td>\n",
       "      <td>9.354000e+01</td>\n",
       "      <td>9.67</td>\n",
       "      <td>0.000000</td>\n",
       "      <td>67.400000</td>\n",
       "      <td>67.400000</td>\n",
       "      <td>7.210000</td>\n",
       "      <td>2.01</td>\n",
       "      <td>5.30</td>\n",
       "    </tr>\n",
       "    <tr>\n",
       "      <th>3</th>\n",
       "      <td>zip_code_prefix</td>\n",
       "      <td>34680.75</td>\n",
       "      <td>24020.00</td>\n",
       "      <td>22790.00</td>\n",
       "      <td>8.897247e+08</td>\n",
       "      <td>29828.25</td>\n",
       "      <td>1003.000000</td>\n",
       "      <td>99980.000000</td>\n",
       "      <td>98977.000000</td>\n",
       "      <td>46155.000000</td>\n",
       "      <td>0.81</td>\n",
       "      <td>-0.73</td>\n",
       "    </tr>\n",
       "    <tr>\n",
       "      <th>4</th>\n",
       "      <td>latitude</td>\n",
       "      <td>-21.36</td>\n",
       "      <td>-22.94</td>\n",
       "      <td>-23.01</td>\n",
       "      <td>2.937000e+01</td>\n",
       "      <td>5.42</td>\n",
       "      <td>-33.689824</td>\n",
       "      <td>2.814040</td>\n",
       "      <td>36.503864</td>\n",
       "      <td>3.296461</td>\n",
       "      <td>1.66</td>\n",
       "      <td>3.21</td>\n",
       "    </tr>\n",
       "    <tr>\n",
       "      <th>5</th>\n",
       "      <td>longitude</td>\n",
       "      <td>-46.18</td>\n",
       "      <td>-46.63</td>\n",
       "      <td>-43.46</td>\n",
       "      <td>1.504000e+01</td>\n",
       "      <td>3.88</td>\n",
       "      <td>-62.010859</td>\n",
       "      <td>-33.722628</td>\n",
       "      <td>28.288231</td>\n",
       "      <td>4.364868</td>\n",
       "      <td>0.27</td>\n",
       "      <td>1.14</td>\n",
       "    </tr>\n",
       "  </tbody>\n",
       "</table>\n",
       "</div>"
      ],
      "text/plain": [
       "            Column      Mean    Median      Mode      Variance  \\\n",
       "0          item_id      1.13      1.00      1.00  1.600000e-01   \n",
       "1            price    100.27     69.99     59.90  8.795210e+03   \n",
       "2    freight_value     18.26     16.11     15.10  9.354000e+01   \n",
       "3  zip_code_prefix  34680.75  24020.00  22790.00  8.897247e+08   \n",
       "4         latitude    -21.36    -22.94    -23.01  2.937000e+01   \n",
       "5        longitude    -46.18    -46.63    -43.46  1.504000e+01   \n",
       "\n",
       "   Standard Deviation    Min Value     Max Value         Range  \\\n",
       "0                0.40     1.000000      3.000000      2.000000   \n",
       "1               93.78     0.850000    670.000000    669.150000   \n",
       "2                9.67     0.000000     67.400000     67.400000   \n",
       "3            29828.25  1003.000000  99980.000000  98977.000000   \n",
       "4                5.42   -33.689824      2.814040     36.503864   \n",
       "5                3.88   -62.010859    -33.722628     28.288231   \n",
       "\n",
       "   Interquartile Range  Skewness  Kurtosis  \n",
       "0             0.000000      3.12      9.49  \n",
       "1            89.100000      2.47      8.14  \n",
       "2             7.210000      2.01      5.30  \n",
       "3         46155.000000      0.81     -0.73  \n",
       "4             3.296461      1.66      3.21  \n",
       "5             4.364868      0.27      1.14  "
      ]
     },
     "execution_count": 311,
     "metadata": {},
     "output_type": "execute_result"
    }
   ],
   "source": [
    "univariate_numerical(df_sales)"
   ]
  },
  {
   "cell_type": "markdown",
   "metadata": {},
   "source": [
    "Check correlation between numerical columns"
   ]
  },
  {
   "cell_type": "code",
   "execution_count": 312,
   "metadata": {},
   "outputs": [
    {
     "data": {
      "image/png": "[encoded data removed]",
      "text/plain": [
       "<Figure size 800x600 with 2 Axes>"
      ]
     },
     "metadata": {},
     "output_type": "display_data"
    }
   ],
   "source": [
    "# check correlation with a heatmap\n",
    "\n",
    "correlation_matrix = df_sales.select_dtypes(include=[np.number]).corr()\n",
    "\n",
    "# Setting up the matplotlib figure with an appropriate size\n",
    "plt.figure(figsize=(8, 6))\n",
    "\n",
    "# Drawing the heatmap for the numerical columns\n",
    "sns.heatmap(correlation_matrix, \n",
    "            annot=True, \n",
    "            cmap=\"coolwarm\", \n",
    "            vmin=-1,  # Set the minimum of the colorbar to -1\n",
    "            vmax=1,   # Set the maximum of the colorbar to 1\n",
    "            center=0) # Center the colorbar at 0\n",
    "\n",
    "# Rotate x-axis labels\n",
    "plt.xticks(rotation=45, ha='right')\n",
    "\n",
    "# Rotate y-axis labels\n",
    "plt.yticks(rotation=45, ha='right')\n",
    "\n",
    "# Adjust the bottom and top of the plot to ensure labels are not cut off\n",
    "plt.tight_layout()\n",
    "\n",
    "plt.title(\"Correlation Heatmap for Selected Numerical Variables\")\n",
    "plt.show()"
   ]
  },
  {
   "cell_type": "markdown",
   "metadata": {},
   "source": [
    "### Categorical columns"
   ]
  },
  {
   "cell_type": "markdown",
   "metadata": {},
   "source": [
    "Categorize total purchase"
   ]
  },
  {
   "cell_type": "code",
   "execution_count": 313,
   "metadata": {},
   "outputs": [],
   "source": [
    "\n",
    "df_sales['purchase_category'] = pd.cut(df_sales['price'], \n",
    "                                bins=3, \n",
    "                                labels=['Small', 'Medium', 'Big'])"
   ]
  },
  {
   "cell_type": "code",
   "execution_count": 314,
   "metadata": {},
   "outputs": [
    {
     "data": {
      "text/plain": [
       "0          (0.181, 223.9]\n",
       "1         (223.9, 446.95]\n",
       "2          (0.181, 223.9]\n",
       "3          (0.181, 223.9]\n",
       "4          (0.181, 223.9]\n",
       "               ...       \n",
       "104393    (223.9, 446.95]\n",
       "104394    (223.9, 446.95]\n",
       "104395     (0.181, 223.9]\n",
       "104396     (0.181, 223.9]\n",
       "104397     (0.181, 223.9]\n",
       "Name: price, Length: 104398, dtype: category\n",
       "Categories (3, interval[float64, right]): [(0.181, 223.9] < (223.9, 446.95] < (446.95, 670.0]]"
      ]
     },
     "execution_count": 314,
     "metadata": {},
     "output_type": "execute_result"
    }
   ],
   "source": [
    "# To see the bin ranges\n",
    "bin_ranges = pd.cut(df_sales['price'], bins=3)\n",
    "bin_ranges"
   ]
  },
  {
   "cell_type": "code",
   "execution_count": 315,
   "metadata": {},
   "outputs": [
    {
     "data": {
      "text/html": [
       "<div>\n",
       "<style scoped>\n",
       "    .dataframe tbody tr th:only-of-type {\n",
       "        vertical-align: middle;\n",
       "    }\n",
       "\n",
       "    .dataframe tbody tr th {\n",
       "        vertical-align: top;\n",
       "    }\n",
       "\n",
       "    .dataframe thead th {\n",
       "        text-align: right;\n",
       "    }\n",
       "</style>\n",
       "<table border=\"1\" class=\"dataframe\">\n",
       "  <thead>\n",
       "    <tr style=\"text-align: right;\">\n",
       "      <th></th>\n",
       "      <th>order_id</th>\n",
       "      <th>item_id</th>\n",
       "      <th>product_id</th>\n",
       "      <th>price</th>\n",
       "      <th>freight_value</th>\n",
       "      <th>customer_id</th>\n",
       "      <th>purchase_timestamp</th>\n",
       "      <th>zip_code_prefix</th>\n",
       "      <th>city</th>\n",
       "      <th>state_code</th>\n",
       "      <th>latitude</th>\n",
       "      <th>longitude</th>\n",
       "      <th>state_name</th>\n",
       "      <th>category</th>\n",
       "      <th>category_english</th>\n",
       "      <th>purchase_category</th>\n",
       "    </tr>\n",
       "  </thead>\n",
       "  <tbody>\n",
       "    <tr>\n",
       "      <th>0</th>\n",
       "      <td>00010242fe8c5a6d1ba2dd792cb16214</td>\n",
       "      <td>1</td>\n",
       "      <td>4244733e06e7ecb4970a6e2683c13e61</td>\n",
       "      <td>58.90</td>\n",
       "      <td>13.29</td>\n",
       "      <td>3ce436f183e68e07877b285a838db11a</td>\n",
       "      <td>2017-09-13 08:59:02</td>\n",
       "      <td>28013</td>\n",
       "      <td>campos dos goytacazes</td>\n",
       "      <td>RJ</td>\n",
       "      <td>-21.763186</td>\n",
       "      <td>-41.310265</td>\n",
       "      <td>Rio de Janeiro</td>\n",
       "      <td>cool_stuff</td>\n",
       "      <td>cool_stuff</td>\n",
       "      <td>Small</td>\n",
       "    </tr>\n",
       "    <tr>\n",
       "      <th>1</th>\n",
       "      <td>00018f77f2f0320c557190d7a144bdd3</td>\n",
       "      <td>1</td>\n",
       "      <td>e5f2d52b802189ee658865ca93d83a8f</td>\n",
       "      <td>239.90</td>\n",
       "      <td>19.93</td>\n",
       "      <td>f6dd3ec061db4e3987629fe6b26e5cce</td>\n",
       "      <td>2017-04-26 10:53:06</td>\n",
       "      <td>15775</td>\n",
       "      <td>santa fe do sul</td>\n",
       "      <td>SP</td>\n",
       "      <td>-20.222902</td>\n",
       "      <td>-50.898297</td>\n",
       "      <td>São Paulo</td>\n",
       "      <td>pet_shop</td>\n",
       "      <td>pet_shop</td>\n",
       "      <td>Medium</td>\n",
       "    </tr>\n",
       "    <tr>\n",
       "      <th>2</th>\n",
       "      <td>000229ec398224ef6ca0657da4fc703e</td>\n",
       "      <td>1</td>\n",
       "      <td>c777355d18b72b67abbeef9df44fd0fd</td>\n",
       "      <td>199.00</td>\n",
       "      <td>17.87</td>\n",
       "      <td>6489ae5e4333f3693df5ad4372dab6d3</td>\n",
       "      <td>2018-01-14 14:33:31</td>\n",
       "      <td>35661</td>\n",
       "      <td>para de minas</td>\n",
       "      <td>MG</td>\n",
       "      <td>-19.869745</td>\n",
       "      <td>-44.592968</td>\n",
       "      <td>Minas Gerais</td>\n",
       "      <td>moveis_decoracao</td>\n",
       "      <td>furniture_decor</td>\n",
       "      <td>Small</td>\n",
       "    </tr>\n",
       "    <tr>\n",
       "      <th>3</th>\n",
       "      <td>00024acbcdf0a6daa1e931b038114c75</td>\n",
       "      <td>1</td>\n",
       "      <td>7634da152a4610f1595efa32f14722fc</td>\n",
       "      <td>12.99</td>\n",
       "      <td>12.79</td>\n",
       "      <td>d4eb9395c8c0431ee92fce09860c5a06</td>\n",
       "      <td>2018-08-08 10:00:35</td>\n",
       "      <td>12952</td>\n",
       "      <td>atibaia</td>\n",
       "      <td>SP</td>\n",
       "      <td>-23.105968</td>\n",
       "      <td>-46.590277</td>\n",
       "      <td>São Paulo</td>\n",
       "      <td>perfumaria</td>\n",
       "      <td>perfumery</td>\n",
       "      <td>Small</td>\n",
       "    </tr>\n",
       "    <tr>\n",
       "      <th>4</th>\n",
       "      <td>00042b26cf59d7ce69dfabb4e55b4fd9</td>\n",
       "      <td>1</td>\n",
       "      <td>ac6c3623068f30de03045865e4e10089</td>\n",
       "      <td>199.90</td>\n",
       "      <td>18.14</td>\n",
       "      <td>58dbd0b2d70206bf40e62cd34e84d795</td>\n",
       "      <td>2017-02-04 13:57:51</td>\n",
       "      <td>13226</td>\n",
       "      <td>varzea paulista</td>\n",
       "      <td>SP</td>\n",
       "      <td>-23.243402</td>\n",
       "      <td>-46.827614</td>\n",
       "      <td>São Paulo</td>\n",
       "      <td>ferramentas_jardim</td>\n",
       "      <td>garden_tools</td>\n",
       "      <td>Small</td>\n",
       "    </tr>\n",
       "  </tbody>\n",
       "</table>\n",
       "</div>"
      ],
      "text/plain": [
       "                           order_id  item_id  \\\n",
       "0  00010242fe8c5a6d1ba2dd792cb16214        1   \n",
       "1  00018f77f2f0320c557190d7a144bdd3        1   \n",
       "2  000229ec398224ef6ca0657da4fc703e        1   \n",
       "3  00024acbcdf0a6daa1e931b038114c75        1   \n",
       "4  00042b26cf59d7ce69dfabb4e55b4fd9        1   \n",
       "\n",
       "                         product_id   price  freight_value  \\\n",
       "0  4244733e06e7ecb4970a6e2683c13e61   58.90          13.29   \n",
       "1  e5f2d52b802189ee658865ca93d83a8f  239.90          19.93   \n",
       "2  c777355d18b72b67abbeef9df44fd0fd  199.00          17.87   \n",
       "3  7634da152a4610f1595efa32f14722fc   12.99          12.79   \n",
       "4  ac6c3623068f30de03045865e4e10089  199.90          18.14   \n",
       "\n",
       "                        customer_id  purchase_timestamp  zip_code_prefix  \\\n",
       "0  3ce436f183e68e07877b285a838db11a 2017-09-13 08:59:02            28013   \n",
       "1  f6dd3ec061db4e3987629fe6b26e5cce 2017-04-26 10:53:06            15775   \n",
       "2  6489ae5e4333f3693df5ad4372dab6d3 2018-01-14 14:33:31            35661   \n",
       "3  d4eb9395c8c0431ee92fce09860c5a06 2018-08-08 10:00:35            12952   \n",
       "4  58dbd0b2d70206bf40e62cd34e84d795 2017-02-04 13:57:51            13226   \n",
       "\n",
       "                    city state_code   latitude  longitude      state_name  \\\n",
       "0  campos dos goytacazes         RJ -21.763186 -41.310265  Rio de Janeiro   \n",
       "1        santa fe do sul         SP -20.222902 -50.898297       São Paulo   \n",
       "2          para de minas         MG -19.869745 -44.592968    Minas Gerais   \n",
       "3                atibaia         SP -23.105968 -46.590277       São Paulo   \n",
       "4        varzea paulista         SP -23.243402 -46.827614       São Paulo   \n",
       "\n",
       "             category category_english purchase_category  \n",
       "0          cool_stuff       cool_stuff             Small  \n",
       "1            pet_shop         pet_shop            Medium  \n",
       "2    moveis_decoracao  furniture_decor             Small  \n",
       "3          perfumaria        perfumery             Small  \n",
       "4  ferramentas_jardim     garden_tools             Small  "
      ]
     },
     "execution_count": 315,
     "metadata": {},
     "output_type": "execute_result"
    }
   ],
   "source": [
    "df_sales.head()"
   ]
  },
  {
   "cell_type": "code",
   "execution_count": 316,
   "metadata": {},
   "outputs": [
    {
     "data": {
      "text/html": [
       "<div>\n",
       "<style scoped>\n",
       "    .dataframe tbody tr th:only-of-type {\n",
       "        vertical-align: middle;\n",
       "    }\n",
       "\n",
       "    .dataframe tbody tr th {\n",
       "        vertical-align: top;\n",
       "    }\n",
       "\n",
       "    .dataframe thead th {\n",
       "        text-align: right;\n",
       "    }\n",
       "</style>\n",
       "<table border=\"1\" class=\"dataframe\">\n",
       "  <thead>\n",
       "    <tr style=\"text-align: right;\">\n",
       "      <th></th>\n",
       "      <th>Column</th>\n",
       "      <th>Chi2 p-value</th>\n",
       "      <th>Cramer V</th>\n",
       "    </tr>\n",
       "  </thead>\n",
       "  <tbody>\n",
       "    <tr>\n",
       "      <th>0</th>\n",
       "      <td>order_id</td>\n",
       "      <td>1.070392e-237</td>\n",
       "      <td>0.994281</td>\n",
       "    </tr>\n",
       "    <tr>\n",
       "      <th>1</th>\n",
       "      <td>product_id</td>\n",
       "      <td>0.000000e+00</td>\n",
       "      <td>0.979893</td>\n",
       "    </tr>\n",
       "    <tr>\n",
       "      <th>2</th>\n",
       "      <td>customer_id</td>\n",
       "      <td>1.070392e-237</td>\n",
       "      <td>0.994281</td>\n",
       "    </tr>\n",
       "    <tr>\n",
       "      <th>3</th>\n",
       "      <td>city</td>\n",
       "      <td>2.445839e-27</td>\n",
       "      <td>0.211031</td>\n",
       "    </tr>\n",
       "    <tr>\n",
       "      <th>4</th>\n",
       "      <td>state_code</td>\n",
       "      <td>3.054810e-29</td>\n",
       "      <td>0.034936</td>\n",
       "    </tr>\n",
       "    <tr>\n",
       "      <th>5</th>\n",
       "      <td>state_name</td>\n",
       "      <td>3.054810e-29</td>\n",
       "      <td>0.034936</td>\n",
       "    </tr>\n",
       "    <tr>\n",
       "      <th>6</th>\n",
       "      <td>category</td>\n",
       "      <td>0.000000e+00</td>\n",
       "      <td>0.183043</td>\n",
       "    </tr>\n",
       "    <tr>\n",
       "      <th>7</th>\n",
       "      <td>category_english</td>\n",
       "      <td>0.000000e+00</td>\n",
       "      <td>0.183043</td>\n",
       "    </tr>\n",
       "  </tbody>\n",
       "</table>\n",
       "</div>"
      ],
      "text/plain": [
       "             Column   Chi2 p-value  Cramer V\n",
       "0          order_id  1.070392e-237  0.994281\n",
       "1        product_id   0.000000e+00  0.979893\n",
       "2       customer_id  1.070392e-237  0.994281\n",
       "3              city   2.445839e-27  0.211031\n",
       "4        state_code   3.054810e-29  0.034936\n",
       "5        state_name   3.054810e-29  0.034936\n",
       "6          category   0.000000e+00  0.183043\n",
       "7  category_english   0.000000e+00  0.183043"
      ]
     },
     "execution_count": 316,
     "metadata": {},
     "output_type": "execute_result"
    }
   ],
   "source": [
    "summary_categorical_correlation(df_sales, 'purchase_category')"
   ]
  },
  {
   "cell_type": "markdown",
   "metadata": {},
   "source": [
    "In this case, analysis on categorical correlation seems to not giving any significant insight. The only thing that may correlate with the purchase are city and category. "
   ]
  },
  {
   "cell_type": "markdown",
   "metadata": {},
   "source": [
    "## Create df_revenue_state to calculate purchase per capita of each state"
   ]
  },
  {
   "cell_type": "code",
   "execution_count": 317,
   "metadata": {},
   "outputs": [],
   "source": [
    "df_revenue_state = df_sales.groupby(['state_code','state_name']).agg({'item_id':'count','price':'sum'}).sort_values(by='price',ascending=False).reset_index()\n",
    "df_revenue_state = df_revenue_state.rename(columns={'item_id':'item_count','price':'revenue'})"
   ]
  },
  {
   "cell_type": "markdown",
   "metadata": {},
   "source": [
    "Merge df_sales_summary and df_states to take population, then, calculate revenue per capita."
   ]
  },
  {
   "cell_type": "code",
   "execution_count": 318,
   "metadata": {},
   "outputs": [],
   "source": [
    "df_revenue_state = pd.merge(df_revenue_state, df_states, on=['state_code','state_name'], how='left')"
   ]
  },
  {
   "cell_type": "code",
   "execution_count": 319,
   "metadata": {},
   "outputs": [
    {
     "data": {
      "text/html": [
       "<div>\n",
       "<style scoped>\n",
       "    .dataframe tbody tr th:only-of-type {\n",
       "        vertical-align: middle;\n",
       "    }\n",
       "\n",
       "    .dataframe tbody tr th {\n",
       "        vertical-align: top;\n",
       "    }\n",
       "\n",
       "    .dataframe thead th {\n",
       "        text-align: right;\n",
       "    }\n",
       "</style>\n",
       "<table border=\"1\" class=\"dataframe\">\n",
       "  <thead>\n",
       "    <tr style=\"text-align: right;\">\n",
       "      <th></th>\n",
       "      <th>state_code</th>\n",
       "      <th>state_name</th>\n",
       "      <th>item_count</th>\n",
       "      <th>revenue</th>\n",
       "      <th>population</th>\n",
       "    </tr>\n",
       "  </thead>\n",
       "  <tbody>\n",
       "    <tr>\n",
       "      <th>0</th>\n",
       "      <td>SP</td>\n",
       "      <td>São Paulo</td>\n",
       "      <td>44750</td>\n",
       "      <td>4251864.27</td>\n",
       "      <td>44411238</td>\n",
       "    </tr>\n",
       "    <tr>\n",
       "      <th>1</th>\n",
       "      <td>RJ</td>\n",
       "      <td>Rio de Janeiro</td>\n",
       "      <td>13459</td>\n",
       "      <td>1382924.55</td>\n",
       "      <td>16055174</td>\n",
       "    </tr>\n",
       "    <tr>\n",
       "      <th>2</th>\n",
       "      <td>MG</td>\n",
       "      <td>Minas Gerais</td>\n",
       "      <td>12331</td>\n",
       "      <td>1247782.66</td>\n",
       "      <td>21279353</td>\n",
       "    </tr>\n",
       "  </tbody>\n",
       "</table>\n",
       "</div>"
      ],
      "text/plain": [
       "  state_code      state_name  item_count     revenue  population\n",
       "0         SP       São Paulo       44750  4251864.27    44411238\n",
       "1         RJ  Rio de Janeiro       13459  1382924.55    16055174\n",
       "2         MG    Minas Gerais       12331  1247782.66    21279353"
      ]
     },
     "execution_count": 319,
     "metadata": {},
     "output_type": "execute_result"
    }
   ],
   "source": [
    "df_revenue_state.head(3)"
   ]
  },
  {
   "cell_type": "markdown",
   "metadata": {},
   "source": [
    "Calculate revenue_per_capita in 1000 inhabitants"
   ]
  },
  {
   "cell_type": "code",
   "execution_count": 320,
   "metadata": {},
   "outputs": [],
   "source": [
    "df_revenue_state['revenue_per_capita'] = (df_revenue_state['revenue']/df_revenue_state['population']*1000).round(2)"
   ]
  },
  {
   "cell_type": "code",
   "execution_count": 321,
   "metadata": {},
   "outputs": [],
   "source": [
    "df_revenue_state = df_revenue_state.sort_values(by='revenue_per_capita', ascending=False).reset_index()"
   ]
  },
  {
   "cell_type": "code",
   "execution_count": 324,
   "metadata": {},
   "outputs": [],
   "source": [
    "#df_revenue_state.drop(columns='index', inplace=True)"
   ]
  },
  {
   "cell_type": "code",
   "execution_count": 329,
   "metadata": {},
   "outputs": [],
   "source": [
    "total_revenue_per_capita = df_revenue_state['revenue_per_capita'].sum()\n",
    "df_revenue_state['percentage_revenue_per_capita'] = (df_revenue_state['revenue_per_capita']/total_revenue_per_capita).round(3)"
   ]
  },
  {
   "cell_type": "code",
   "execution_count": 330,
   "metadata": {},
   "outputs": [
    {
     "data": {
      "text/html": [
       "<div>\n",
       "<style scoped>\n",
       "    .dataframe tbody tr th:only-of-type {\n",
       "        vertical-align: middle;\n",
       "    }\n",
       "\n",
       "    .dataframe tbody tr th {\n",
       "        vertical-align: top;\n",
       "    }\n",
       "\n",
       "    .dataframe thead th {\n",
       "        text-align: right;\n",
       "    }\n",
       "</style>\n",
       "<table border=\"1\" class=\"dataframe\">\n",
       "  <thead>\n",
       "    <tr style=\"text-align: right;\">\n",
       "      <th></th>\n",
       "      <th>state_code</th>\n",
       "      <th>state_name</th>\n",
       "      <th>item_count</th>\n",
       "      <th>revenue</th>\n",
       "      <th>population</th>\n",
       "      <th>revenue_per_capita</th>\n",
       "      <th>percentage_revenue_per_capita</th>\n",
       "    </tr>\n",
       "  </thead>\n",
       "  <tbody>\n",
       "    <tr>\n",
       "      <th>0</th>\n",
       "      <td>ES</td>\n",
       "      <td>Espírito Santo</td>\n",
       "      <td>2120</td>\n",
       "      <td>211908.13</td>\n",
       "      <td>17798</td>\n",
       "      <td>11906.29</td>\n",
       "      <td>0.510</td>\n",
       "    </tr>\n",
       "    <tr>\n",
       "      <th>1</th>\n",
       "      <td>SC</td>\n",
       "      <td>Santa Catarina</td>\n",
       "      <td>3878</td>\n",
       "      <td>396042.08</td>\n",
       "      <td>36964</td>\n",
       "      <td>10714.26</td>\n",
       "      <td>0.459</td>\n",
       "    </tr>\n",
       "    <tr>\n",
       "      <th>2</th>\n",
       "      <td>SP</td>\n",
       "      <td>São Paulo</td>\n",
       "      <td>44750</td>\n",
       "      <td>4251864.27</td>\n",
       "      <td>44411238</td>\n",
       "      <td>95.74</td>\n",
       "      <td>0.004</td>\n",
       "    </tr>\n",
       "    <tr>\n",
       "      <th>3</th>\n",
       "      <td>RJ</td>\n",
       "      <td>Rio de Janeiro</td>\n",
       "      <td>13459</td>\n",
       "      <td>1382924.55</td>\n",
       "      <td>16055174</td>\n",
       "      <td>86.14</td>\n",
       "      <td>0.004</td>\n",
       "    </tr>\n",
       "    <tr>\n",
       "      <th>4</th>\n",
       "      <td>DF</td>\n",
       "      <td>Distrito Federal</td>\n",
       "      <td>2078</td>\n",
       "      <td>212403.56</td>\n",
       "      <td>2817381</td>\n",
       "      <td>75.39</td>\n",
       "      <td>0.003</td>\n",
       "    </tr>\n",
       "    <tr>\n",
       "      <th>5</th>\n",
       "      <td>MG</td>\n",
       "      <td>Minas Gerais</td>\n",
       "      <td>12331</td>\n",
       "      <td>1247782.66</td>\n",
       "      <td>21279353</td>\n",
       "      <td>58.64</td>\n",
       "      <td>0.003</td>\n",
       "    </tr>\n",
       "    <tr>\n",
       "      <th>6</th>\n",
       "      <td>RS</td>\n",
       "      <td>Rio Grande do Sul</td>\n",
       "      <td>5833</td>\n",
       "      <td>592280.06</td>\n",
       "      <td>10882965</td>\n",
       "      <td>54.42</td>\n",
       "      <td>0.002</td>\n",
       "    </tr>\n",
       "    <tr>\n",
       "      <th>7</th>\n",
       "      <td>PR</td>\n",
       "      <td>Paraná</td>\n",
       "      <td>5380</td>\n",
       "      <td>539920.51</td>\n",
       "      <td>11623091</td>\n",
       "      <td>46.45</td>\n",
       "      <td>0.002</td>\n",
       "    </tr>\n",
       "    <tr>\n",
       "      <th>8</th>\n",
       "      <td>GO</td>\n",
       "      <td>Goiás</td>\n",
       "      <td>2121</td>\n",
       "      <td>227621.33</td>\n",
       "      <td>7056495</td>\n",
       "      <td>32.26</td>\n",
       "      <td>0.001</td>\n",
       "    </tr>\n",
       "    <tr>\n",
       "      <th>9</th>\n",
       "      <td>MT</td>\n",
       "      <td>Mato Grosso</td>\n",
       "      <td>949</td>\n",
       "      <td>106959.34</td>\n",
       "      <td>3658649</td>\n",
       "      <td>29.23</td>\n",
       "      <td>0.001</td>\n",
       "    </tr>\n",
       "    <tr>\n",
       "      <th>10</th>\n",
       "      <td>MS</td>\n",
       "      <td>Mato Grosso do Sul</td>\n",
       "      <td>761</td>\n",
       "      <td>76233.99</td>\n",
       "      <td>2880308</td>\n",
       "      <td>26.47</td>\n",
       "      <td>0.001</td>\n",
       "    </tr>\n",
       "    <tr>\n",
       "      <th>11</th>\n",
       "      <td>BA</td>\n",
       "      <td>Bahia</td>\n",
       "      <td>3433</td>\n",
       "      <td>365288.81</td>\n",
       "      <td>14141626</td>\n",
       "      <td>25.83</td>\n",
       "      <td>0.001</td>\n",
       "    </tr>\n",
       "    <tr>\n",
       "      <th>12</th>\n",
       "      <td>PE</td>\n",
       "      <td>Pernambuco</td>\n",
       "      <td>1626</td>\n",
       "      <td>189016.63</td>\n",
       "      <td>9645321</td>\n",
       "      <td>19.60</td>\n",
       "      <td>0.001</td>\n",
       "    </tr>\n",
       "    <tr>\n",
       "      <th>13</th>\n",
       "      <td>PI</td>\n",
       "      <td>Piauí</td>\n",
       "      <td>473</td>\n",
       "      <td>60320.08</td>\n",
       "      <td>3341352</td>\n",
       "      <td>18.05</td>\n",
       "      <td>0.001</td>\n",
       "    </tr>\n",
       "    <tr>\n",
       "      <th>14</th>\n",
       "      <td>CE</td>\n",
       "      <td>Ceará</td>\n",
       "      <td>1296</td>\n",
       "      <td>153298.43</td>\n",
       "      <td>8794957</td>\n",
       "      <td>17.43</td>\n",
       "      <td>0.001</td>\n",
       "    </tr>\n",
       "    <tr>\n",
       "      <th>15</th>\n",
       "      <td>TO</td>\n",
       "      <td>Tocantins</td>\n",
       "      <td>275</td>\n",
       "      <td>29420.78</td>\n",
       "      <td>1692452</td>\n",
       "      <td>17.38</td>\n",
       "      <td>0.001</td>\n",
       "    </tr>\n",
       "    <tr>\n",
       "      <th>16</th>\n",
       "      <td>SE</td>\n",
       "      <td>Sergipe</td>\n",
       "      <td>335</td>\n",
       "      <td>38615.62</td>\n",
       "      <td>2403563</td>\n",
       "      <td>16.07</td>\n",
       "      <td>0.001</td>\n",
       "    </tr>\n",
       "    <tr>\n",
       "      <th>17</th>\n",
       "      <td>PB</td>\n",
       "      <td>Paraíba</td>\n",
       "      <td>502</td>\n",
       "      <td>64583.52</td>\n",
       "      <td>4175326</td>\n",
       "      <td>15.47</td>\n",
       "      <td>0.001</td>\n",
       "    </tr>\n",
       "    <tr>\n",
       "      <th>18</th>\n",
       "      <td>AL</td>\n",
       "      <td>Alagoas</td>\n",
       "      <td>379</td>\n",
       "      <td>48150.53</td>\n",
       "      <td>3127683</td>\n",
       "      <td>15.39</td>\n",
       "      <td>0.001</td>\n",
       "    </tr>\n",
       "    <tr>\n",
       "      <th>19</th>\n",
       "      <td>RN</td>\n",
       "      <td>Rio Grande do Norte</td>\n",
       "      <td>474</td>\n",
       "      <td>53829.19</td>\n",
       "      <td>3619619</td>\n",
       "      <td>14.87</td>\n",
       "      <td>0.001</td>\n",
       "    </tr>\n",
       "    <tr>\n",
       "      <th>20</th>\n",
       "      <td>MA</td>\n",
       "      <td>Maranhão</td>\n",
       "      <td>721</td>\n",
       "      <td>83100.05</td>\n",
       "      <td>6776699</td>\n",
       "      <td>12.26</td>\n",
       "      <td>0.001</td>\n",
       "    </tr>\n",
       "    <tr>\n",
       "      <th>21</th>\n",
       "      <td>PA</td>\n",
       "      <td>Pará</td>\n",
       "      <td>920</td>\n",
       "      <td>104313.68</td>\n",
       "      <td>8639532</td>\n",
       "      <td>12.07</td>\n",
       "      <td>0.001</td>\n",
       "    </tr>\n",
       "    <tr>\n",
       "      <th>22</th>\n",
       "      <td>AP</td>\n",
       "      <td>Amapá</td>\n",
       "      <td>69</td>\n",
       "      <td>7372.70</td>\n",
       "      <td>733759</td>\n",
       "      <td>10.05</td>\n",
       "      <td>0.000</td>\n",
       "    </tr>\n",
       "    <tr>\n",
       "      <th>23</th>\n",
       "      <td>RO</td>\n",
       "      <td>Rondônia</td>\n",
       "      <td>75</td>\n",
       "      <td>8156.96</td>\n",
       "      <td>1837905</td>\n",
       "      <td>4.44</td>\n",
       "      <td>0.000</td>\n",
       "    </tr>\n",
       "    <tr>\n",
       "      <th>24</th>\n",
       "      <td>AM</td>\n",
       "      <td>Amazonas</td>\n",
       "      <td>146</td>\n",
       "      <td>15164.06</td>\n",
       "      <td>3941613</td>\n",
       "      <td>3.85</td>\n",
       "      <td>0.000</td>\n",
       "    </tr>\n",
       "    <tr>\n",
       "      <th>25</th>\n",
       "      <td>RR</td>\n",
       "      <td>Roraima</td>\n",
       "      <td>14</td>\n",
       "      <td>1662.06</td>\n",
       "      <td>708352</td>\n",
       "      <td>2.35</td>\n",
       "      <td>0.000</td>\n",
       "    </tr>\n",
       "  </tbody>\n",
       "</table>\n",
       "</div>"
      ],
      "text/plain": [
       "   state_code           state_name  item_count     revenue  population  \\\n",
       "0          ES       Espírito Santo        2120   211908.13       17798   \n",
       "1          SC       Santa Catarina        3878   396042.08       36964   \n",
       "2          SP            São Paulo       44750  4251864.27    44411238   \n",
       "3          RJ       Rio de Janeiro       13459  1382924.55    16055174   \n",
       "4          DF     Distrito Federal        2078   212403.56     2817381   \n",
       "5          MG         Minas Gerais       12331  1247782.66    21279353   \n",
       "6          RS    Rio Grande do Sul        5833   592280.06    10882965   \n",
       "7          PR               Paraná        5380   539920.51    11623091   \n",
       "8          GO                Goiás        2121   227621.33     7056495   \n",
       "9          MT          Mato Grosso         949   106959.34     3658649   \n",
       "10         MS   Mato Grosso do Sul         761    76233.99     2880308   \n",
       "11         BA                Bahia        3433   365288.81    14141626   \n",
       "12         PE           Pernambuco        1626   189016.63     9645321   \n",
       "13         PI                Piauí         473    60320.08     3341352   \n",
       "14         CE                Ceará        1296   153298.43     8794957   \n",
       "15         TO            Tocantins         275    29420.78     1692452   \n",
       "16         SE              Sergipe         335    38615.62     2403563   \n",
       "17         PB              Paraíba         502    64583.52     4175326   \n",
       "18         AL              Alagoas         379    48150.53     3127683   \n",
       "19         RN  Rio Grande do Norte         474    53829.19     3619619   \n",
       "20         MA             Maranhão         721    83100.05     6776699   \n",
       "21         PA                 Pará         920   104313.68     8639532   \n",
       "22         AP                Amapá          69     7372.70      733759   \n",
       "23         RO             Rondônia          75     8156.96     1837905   \n",
       "24         AM             Amazonas         146    15164.06     3941613   \n",
       "25         RR              Roraima          14     1662.06      708352   \n",
       "\n",
       "    revenue_per_capita  percentage_revenue_per_capita  \n",
       "0             11906.29                          0.510  \n",
       "1             10714.26                          0.459  \n",
       "2                95.74                          0.004  \n",
       "3                86.14                          0.004  \n",
       "4                75.39                          0.003  \n",
       "5                58.64                          0.003  \n",
       "6                54.42                          0.002  \n",
       "7                46.45                          0.002  \n",
       "8                32.26                          0.001  \n",
       "9                29.23                          0.001  \n",
       "10               26.47                          0.001  \n",
       "11               25.83                          0.001  \n",
       "12               19.60                          0.001  \n",
       "13               18.05                          0.001  \n",
       "14               17.43                          0.001  \n",
       "15               17.38                          0.001  \n",
       "16               16.07                          0.001  \n",
       "17               15.47                          0.001  \n",
       "18               15.39                          0.001  \n",
       "19               14.87                          0.001  \n",
       "20               12.26                          0.001  \n",
       "21               12.07                          0.001  \n",
       "22               10.05                          0.000  \n",
       "23                4.44                          0.000  \n",
       "24                3.85                          0.000  \n",
       "25                2.35                          0.000  "
      ]
     },
     "execution_count": 330,
     "metadata": {},
     "output_type": "execute_result"
    }
   ],
   "source": [
    "df_revenue_state"
   ]
  },
  {
   "cell_type": "markdown",
   "metadata": {},
   "source": [
    "Save to a new csv"
   ]
  },
  {
   "cell_type": "code",
   "execution_count": 331,
   "metadata": {},
   "outputs": [],
   "source": [
    "df_revenue_state.to_csv('../../data/cleaned/df_revenue_state.csv')"
   ]
  },
  {
   "cell_type": "markdown",
   "metadata": {},
   "source": [
    "## Create df_category to calculate based on category"
   ]
  },
  {
   "cell_type": "code",
   "execution_count": 257,
   "metadata": {},
   "outputs": [],
   "source": [
    "df_category = df_sales.groupby(['category','category_english']).agg({\n",
    "                'item_id': 'count',\n",
    "                'price': 'sum'\n",
    "                }).rename(columns={\n",
    "                'item_id': 'item_count',\n",
    "                'price': 'revenue'\n",
    "                }).sort_values(by='item_count', ascending=False).reset_index()"
   ]
  },
  {
   "cell_type": "code",
   "execution_count": 258,
   "metadata": {},
   "outputs": [
    {
     "data": {
      "text/html": [
       "<div>\n",
       "<style scoped>\n",
       "    .dataframe tbody tr th:only-of-type {\n",
       "        vertical-align: middle;\n",
       "    }\n",
       "\n",
       "    .dataframe tbody tr th {\n",
       "        vertical-align: top;\n",
       "    }\n",
       "\n",
       "    .dataframe thead th {\n",
       "        text-align: right;\n",
       "    }\n",
       "</style>\n",
       "<table border=\"1\" class=\"dataframe\">\n",
       "  <thead>\n",
       "    <tr style=\"text-align: right;\">\n",
       "      <th></th>\n",
       "      <th>category</th>\n",
       "      <th>category_english</th>\n",
       "      <th>item_count</th>\n",
       "      <th>revenue</th>\n",
       "    </tr>\n",
       "  </thead>\n",
       "  <tbody>\n",
       "    <tr>\n",
       "      <th>0</th>\n",
       "      <td>cama_mesa_banho</td>\n",
       "      <td>bed_bath_table</td>\n",
       "      <td>10657</td>\n",
       "      <td>967713.55</td>\n",
       "    </tr>\n",
       "    <tr>\n",
       "      <th>1</th>\n",
       "      <td>beleza_saude</td>\n",
       "      <td>health_beauty</td>\n",
       "      <td>9052</td>\n",
       "      <td>1008934.77</td>\n",
       "    </tr>\n",
       "    <tr>\n",
       "      <th>2</th>\n",
       "      <td>esporte_lazer</td>\n",
       "      <td>sports_leisure</td>\n",
       "      <td>8154</td>\n",
       "      <td>818729.87</td>\n",
       "    </tr>\n",
       "    <tr>\n",
       "      <th>3</th>\n",
       "      <td>moveis_decoracao</td>\n",
       "      <td>furniture_decor</td>\n",
       "      <td>7674</td>\n",
       "      <td>637797.14</td>\n",
       "    </tr>\n",
       "    <tr>\n",
       "      <th>4</th>\n",
       "      <td>informatica_acessorios</td>\n",
       "      <td>computers_accessories</td>\n",
       "      <td>7263</td>\n",
       "      <td>729985.07</td>\n",
       "    </tr>\n",
       "    <tr>\n",
       "      <th>...</th>\n",
       "      <td>...</td>\n",
       "      <td>...</td>\n",
       "      <td>...</td>\n",
       "      <td>...</td>\n",
       "    </tr>\n",
       "    <tr>\n",
       "      <th>69</th>\n",
       "      <td>la_cuisine</td>\n",
       "      <td>la_cuisine</td>\n",
       "      <td>14</td>\n",
       "      <td>2054.99</td>\n",
       "    </tr>\n",
       "    <tr>\n",
       "      <th>70</th>\n",
       "      <td>portateis_cozinha_e_preparadores_de_alimentos</td>\n",
       "      <td>portateis_cozinha_e_preparadores_de_alimentos</td>\n",
       "      <td>11</td>\n",
       "      <td>876.63</td>\n",
       "    </tr>\n",
       "    <tr>\n",
       "      <th>71</th>\n",
       "      <td>pc_gamer</td>\n",
       "      <td>pc_gamer</td>\n",
       "      <td>8</td>\n",
       "      <td>1306.95</td>\n",
       "    </tr>\n",
       "    <tr>\n",
       "      <th>72</th>\n",
       "      <td>fashion_roupa_infanto_juvenil</td>\n",
       "      <td>fashion_childrens_clothes</td>\n",
       "      <td>7</td>\n",
       "      <td>519.95</td>\n",
       "    </tr>\n",
       "    <tr>\n",
       "      <th>73</th>\n",
       "      <td>seguros_e_servicos</td>\n",
       "      <td>security_and_services</td>\n",
       "      <td>2</td>\n",
       "      <td>283.29</td>\n",
       "    </tr>\n",
       "  </tbody>\n",
       "</table>\n",
       "<p>74 rows × 4 columns</p>\n",
       "</div>"
      ],
      "text/plain": [
       "                                         category  \\\n",
       "0                                 cama_mesa_banho   \n",
       "1                                    beleza_saude   \n",
       "2                                   esporte_lazer   \n",
       "3                                moveis_decoracao   \n",
       "4                          informatica_acessorios   \n",
       "..                                            ...   \n",
       "69                                     la_cuisine   \n",
       "70  portateis_cozinha_e_preparadores_de_alimentos   \n",
       "71                                       pc_gamer   \n",
       "72                  fashion_roupa_infanto_juvenil   \n",
       "73                             seguros_e_servicos   \n",
       "\n",
       "                                 category_english  item_count     revenue  \n",
       "0                                  bed_bath_table       10657   967713.55  \n",
       "1                                   health_beauty        9052  1008934.77  \n",
       "2                                  sports_leisure        8154   818729.87  \n",
       "3                                 furniture_decor        7674   637797.14  \n",
       "4                           computers_accessories        7263   729985.07  \n",
       "..                                            ...         ...         ...  \n",
       "69                                     la_cuisine          14     2054.99  \n",
       "70  portateis_cozinha_e_preparadores_de_alimentos          11      876.63  \n",
       "71                                       pc_gamer           8     1306.95  \n",
       "72                      fashion_childrens_clothes           7      519.95  \n",
       "73                          security_and_services           2      283.29  \n",
       "\n",
       "[74 rows x 4 columns]"
      ]
     },
     "execution_count": 258,
     "metadata": {},
     "output_type": "execute_result"
    }
   ],
   "source": [
    "df_category"
   ]
  },
  {
   "cell_type": "code",
   "execution_count": 259,
   "metadata": {},
   "outputs": [],
   "source": [
    "total_revenue = df_category['revenue'].sum()\n",
    "df_category['percentage_revenue'] = (df_category['revenue']/total_revenue).round(3)"
   ]
  },
  {
   "cell_type": "code",
   "execution_count": 260,
   "metadata": {},
   "outputs": [
    {
     "data": {
      "text/html": [
       "<div>\n",
       "<style scoped>\n",
       "    .dataframe tbody tr th:only-of-type {\n",
       "        vertical-align: middle;\n",
       "    }\n",
       "\n",
       "    .dataframe tbody tr th {\n",
       "        vertical-align: top;\n",
       "    }\n",
       "\n",
       "    .dataframe thead th {\n",
       "        text-align: right;\n",
       "    }\n",
       "</style>\n",
       "<table border=\"1\" class=\"dataframe\">\n",
       "  <thead>\n",
       "    <tr style=\"text-align: right;\">\n",
       "      <th></th>\n",
       "      <th>category</th>\n",
       "      <th>category_english</th>\n",
       "      <th>item_count</th>\n",
       "      <th>revenue</th>\n",
       "      <th>percentage_revenue</th>\n",
       "    </tr>\n",
       "  </thead>\n",
       "  <tbody>\n",
       "    <tr>\n",
       "      <th>0</th>\n",
       "      <td>cama_mesa_banho</td>\n",
       "      <td>bed_bath_table</td>\n",
       "      <td>10657</td>\n",
       "      <td>967713.55</td>\n",
       "      <td>0.092</td>\n",
       "    </tr>\n",
       "    <tr>\n",
       "      <th>1</th>\n",
       "      <td>beleza_saude</td>\n",
       "      <td>health_beauty</td>\n",
       "      <td>9052</td>\n",
       "      <td>1008934.77</td>\n",
       "      <td>0.096</td>\n",
       "    </tr>\n",
       "    <tr>\n",
       "      <th>2</th>\n",
       "      <td>esporte_lazer</td>\n",
       "      <td>sports_leisure</td>\n",
       "      <td>8154</td>\n",
       "      <td>818729.87</td>\n",
       "      <td>0.078</td>\n",
       "    </tr>\n",
       "    <tr>\n",
       "      <th>3</th>\n",
       "      <td>moveis_decoracao</td>\n",
       "      <td>furniture_decor</td>\n",
       "      <td>7674</td>\n",
       "      <td>637797.14</td>\n",
       "      <td>0.061</td>\n",
       "    </tr>\n",
       "    <tr>\n",
       "      <th>4</th>\n",
       "      <td>informatica_acessorios</td>\n",
       "      <td>computers_accessories</td>\n",
       "      <td>7263</td>\n",
       "      <td>729985.07</td>\n",
       "      <td>0.070</td>\n",
       "    </tr>\n",
       "  </tbody>\n",
       "</table>\n",
       "</div>"
      ],
      "text/plain": [
       "                 category       category_english  item_count     revenue  \\\n",
       "0         cama_mesa_banho         bed_bath_table       10657   967713.55   \n",
       "1            beleza_saude          health_beauty        9052  1008934.77   \n",
       "2           esporte_lazer         sports_leisure        8154   818729.87   \n",
       "3        moveis_decoracao        furniture_decor        7674   637797.14   \n",
       "4  informatica_acessorios  computers_accessories        7263   729985.07   \n",
       "\n",
       "   percentage_revenue  \n",
       "0               0.092  \n",
       "1               0.096  \n",
       "2               0.078  \n",
       "3               0.061  \n",
       "4               0.070  "
      ]
     },
     "execution_count": 260,
     "metadata": {},
     "output_type": "execute_result"
    }
   ],
   "source": [
    "df_category.head()"
   ]
  },
  {
   "cell_type": "markdown",
   "metadata": {},
   "source": [
    "Save it to a new csv file."
   ]
  },
  {
   "cell_type": "code",
   "execution_count": 261,
   "metadata": {},
   "outputs": [],
   "source": [
    "df_category.to_csv('../../data/cleaned/df_category.csv')"
   ]
  }
 ],
 "metadata": {
  "kernelspec": {
   "display_name": "env_project_final",
   "language": "python",
   "name": "python3"
  },
  "language_info": {
   "codemirror_mode": {
    "name": "ipython",
    "version": 3
   },
   "file_extension": ".py",
   "mimetype": "text/x-python",
   "name": "python",
   "nbconvert_exporter": "python",
   "pygments_lexer": "ipython3",
   "version": "3.12.3"
  }
 },
 "nbformat": 4,
 "nbformat_minor": 2
}
