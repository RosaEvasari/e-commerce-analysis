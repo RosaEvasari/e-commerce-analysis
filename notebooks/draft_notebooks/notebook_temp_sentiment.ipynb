{
 "cells": [
  {
   "cell_type": "code",
   "execution_count": 1,
   "metadata": {},
   "outputs": [
    {
     "name": "stderr",
     "output_type": "stream",
     "text": [
      "c:\\Users\\Gebruiker\\anaconda3\\envs\\env_project_final\\Lib\\site-packages\\tqdm\\auto.py:21: TqdmWarning: IProgress not found. Please update jupyter and ipywidgets. See https://ipywidgets.readthedocs.io/en/stable/user_install.html\n",
      "  from .autonotebook import tqdm as notebook_tqdm\n"
     ]
    }
   ],
   "source": [
    "from functions import *"
   ]
  },
  {
   "cell_type": "code",
   "execution_count": null,
   "metadata": {},
   "outputs": [],
   "source": [
    "df_reviews = pd.read_csv('../../data/cleaned/reviews.csv', encoding='utf-8', parse_dates=['creation_timestamp','answer_timestamp'] )\n",
    "df_reviews = df_reviews.copy()"
   ]
  },
  {
   "cell_type": "code",
   "execution_count": null,
   "metadata": {},
   "outputs": [],
   "source": [
    "# Download Portuguese stopwords (ex: \"o\", \"a\", \"os\", \"as\", \"de\", \"que\", \"em\".)\n",
    "\n",
    "setup_nltk()\n",
    "portuguese_stopwords = get_portuguese_stopwords()"
   ]
  },
  {
   "cell_type": "code",
   "execution_count": null,
   "metadata": {},
   "outputs": [],
   "source": [
    "df_reviews['cleaned_review'], df_reviews['emojis'] = zip(*df_reviews['message'].apply(lambda x: clean_text(x, portuguese_stopwords)))"
   ]
  },
  {
   "cell_type": "code",
   "execution_count": null,
   "metadata": {},
   "outputs": [],
   "source": [
    "emoji_counts = df_reviews['emojis'].apply(lambda x: [c for c in x]).explode().value_counts()"
   ]
  },
  {
   "cell_type": "code",
   "execution_count": null,
   "metadata": {},
   "outputs": [],
   "source": [
    "# Visualize emoji distribution\n",
    "\n",
    "plt.figure(figsize=(12, 6))\n",
    "emoji_counts.head(10).plot(kind='bar')\n",
    "plt.title('Top 10 Most Used Emojis in Reviews')\n",
    "plt.xlabel('Emoji')\n",
    "plt.ylabel('Count')\n",
    "plt.show()"
   ]
  },
  {
   "cell_type": "code",
   "execution_count": null,
   "metadata": {},
   "outputs": [],
   "source": [
    "# Get most common words\n",
    "all_words = ' '.join(df_reviews['cleaned_review']).split()\n",
    "valid_words = [word for word in all_words if is_valid_word(word)]\n",
    "word_counts = Counter(valid_words)\n",
    "top_words_pt = word_counts.most_common(20)"
   ]
  },
  {
   "cell_type": "code",
   "execution_count": null,
   "metadata": {},
   "outputs": [],
   "source": [
    "top_words_pt = word_counts.most_common(20)\n",
    "top_words_en = [(translate_to_english(word), count) for word, count in top_words_pt]"
   ]
  },
  {
   "cell_type": "code",
   "execution_count": null,
   "metadata": {},
   "outputs": [],
   "source": [
    "\n",
    "# Emotion Detection with Hugging Face\n",
    "from transformers import pipeline\n",
    "\n",
    "# Load multilingual emotion classification model\n",
    "emotion_classifier = pipeline(\"text-classification\", model=\"j-hartmann/emotion-english-distilroberta-base\", top_k=None)\n",
    "\n",
    "# Function to get emotions\n",
    "def get_emotions(text):\n",
    "    results = emotion_classifier(text)\n",
    "    return {r['label']: r['score'] for r in results[0]}\n",
    "\n",
    "# Apply to a sample of reviews\n",
    "sample_df = df.sample(1000)\n",
    "sample_df['emotions'] = sample_df['cleaned_review'].apply(get_emotions)\n",
    "\n",
    "# Analyze results\n",
    "sample_df['top_emotion'] = sample_df['emotions'].apply(lambda x: max(x, key=x.get))\n",
    "sample_df['top_emotion'].value_counts().plot(kind='bar')\n",
    "plt.title('Distribution of Top Emotions')\n",
    "plt.show()"
   ]
  },
  {
   "cell_type": "code",
   "execution_count": null,
   "metadata": {},
   "outputs": [],
   "source": []
  },
  {
   "cell_type": "code",
   "execution_count": null,
   "metadata": {},
   "outputs": [],
   "source": [
    "# Load model directly\n",
    "from transformers import AutoTokenizer, AutoModelForSequenceClassification\n",
    "\n",
    "tokenizer = AutoTokenizer.from_pretrained(\"cardiffnlp/twitter-xlm-roberta-base-sentiment\")\n",
    "model = AutoModelForSequenceClassification.from_pretrained(\"cardiffnlp/twitter-xlm-roberta-base-sentiment\")"
   ]
  },
  {
   "cell_type": "code",
   "execution_count": null,
   "metadata": {},
   "outputs": [],
   "source": [
    "from transformers import pipeline\n",
    "model_path = \"cardiffnlp/twitter-xlm-roberta-base-sentiment\"\n",
    "sentiment_task = pipeline(\"sentiment-analysis\", model=model_path, tokenizer=model_path)\n",
    "sentiment_task(\"T'estimo!\")\n"
   ]
  }
 ],
 "metadata": {
  "kernelspec": {
   "display_name": "env_project_final",
   "language": "python",
   "name": "python3"
  },
  "language_info": {
   "codemirror_mode": {
    "name": "ipython",
    "version": 3
   },
   "file_extension": ".py",
   "mimetype": "text/x-python",
   "name": "python",
   "nbconvert_exporter": "python",
   "pygments_lexer": "ipython3",
   "version": "3.12.3"
  }
 },
 "nbformat": 4,
 "nbformat_minor": 2
}
